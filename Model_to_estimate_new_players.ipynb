{
 "cells": [
  {
   "cell_type": "markdown",
   "metadata": {},
   "source": [
    "# Skill estimation using Stan"
   ]
  },
  {
   "cell_type": "code",
   "execution_count": 1,
   "metadata": {},
   "outputs": [],
   "source": [
    "import numpy as np\n",
    "import pystan\n",
    "import matplotlib.pyplot as plt\n",
    "%matplotlib inline\n",
    "\n",
    "import pickle"
   ]
  },
  {
   "cell_type": "markdown",
   "metadata": {},
   "source": [
    "## Model that defined skill's distribution with more features"
   ]
  },
  {
   "cell_type": "code",
   "execution_count": 4,
   "metadata": {},
   "outputs": [],
   "source": [
    "skill_model = \"\"\"\n",
    "data {\n",
    "  int<lower=1> N;             // Total number of players\n",
    "  int<lower=1> N1;             // Total number of old players\n",
    "  int<lower=1> E;             // number of games\n",
    "  real<lower=0> scale;        // scale value for probability computation\n",
    "  int<lower=0,upper=1> win[E]; // PA wins vs PB\n",
    "  int PA[E];                  // player info between each game\n",
    "  int PB[E];                  // \n",
    "  real old_skill[N1];           //\n",
    "}\n",
    "parameters {\n",
    "  vector [N] skill;           // skill values for each player\n",
    "}\n",
    "\n",
    "model{\n",
    "  for (i in 1:N){ \n",
    "    if (i <= N1) {skill[i] ~ normal(old_skill[i],1);}\n",
    "    else {skill[i]~normal(0,3);} \n",
    "  }\n",
    "  for (i in 1:E){\n",
    "    win[i] ~ bernoulli_logit( (scale)*(skill[PA[i]]-skill[PB[i]]) );\n",
    "  }   // win probability is a logit function of skill difference\n",
    "}\n",
    "\"\"\""
   ]
  },
  {
   "cell_type": "markdown",
   "metadata": {},
   "source": [
    "Now, compile the model.  "
   ]
  },
  {
   "cell_type": "code",
   "execution_count": 11,
   "metadata": {},
   "outputs": [],
   "source": [
    "# try:     # load it if already compiled\n",
    "#     sm = pickle.load(open('skill_model_new.pkl', 'rb'))\n",
    "# except:  # ow, compile and save compiled model\n",
    "#     sm = pystan.StanModel(model_code = skill_model)\n",
    "#     with open('skill_model_new.pkl', 'wb') as f: pickle.dump(sm, f)"
   ]
  },
  {
   "cell_type": "code",
   "execution_count": 12,
   "metadata": {},
   "outputs": [],
   "source": [
    "sm1 = pickle.load(open('skill_model.pkl', 'rb'))\n",
    "sm2 = pickle.load(open('skill_model_new.pkl', 'rb'))"
   ]
  },
  {
   "cell_type": "markdown",
   "metadata": {},
   "source": [
    "## Processing data"
   ]
  },
  {
   "cell_type": "code",
   "execution_count": 49,
   "metadata": {},
   "outputs": [],
   "source": [
    "def load_data(dir='data/', new=0, pKeep=1.0, nEdge=3, nKeep=5, opt='train'):\n",
    "    with open(dir+opt+'.csv', encoding='utf-8') as f:\n",
    "        lines = f.read().split('\\n')\n",
    "\n",
    "    p = 0\n",
    "    playerid = {}\n",
    "    for i in range(len(lines)):\n",
    "        csv = lines[i].split(',')\n",
    "        if len(csv) != 10: \n",
    "            continue   # parse error or blank line\n",
    "        player0,player1 = csv[1],csv[4]\n",
    "        if player0 not in playerid:\n",
    "            playerid[player0]=p\n",
    "            p+=1\n",
    "        if player1 not in playerid:\n",
    "            playerid[player1]=p\n",
    "            p+=1\n",
    "\n",
    "    \n",
    "    # Sparsifying parameters (discard some training examples):\n",
    "    # pKeep = 1.0   # fraction of edges to consider (immed. throw out 1-p edges)\n",
    "    # nEdge = 3     # try to keep nEdge opponents per player (may be more; asymmetric)\n",
    "    # nKeep = 5     # keep at most nKeep games per opponent pairs (play each other multiple times)\n",
    "\n",
    "    wins, wins_n = [], []\n",
    "    playerA, playerB = [], []\n",
    "    playerA_n, playerB_n = [], []\n",
    "    nplayers = len(playerid) - new\n",
    "    nplayers_n = new \n",
    "    nplays = np.zeros( (len(playerid),len(playerid)) )\n",
    "    \n",
    "    for i in range(len(lines)):\n",
    "        csv = lines[i].split(',')\n",
    "        if len(csv) != 10:\n",
    "            continue   # parse error or blank line\n",
    "        a,b = playerid[csv[1]],playerid[csv[4]]\n",
    "        aw,bw = csv[2]=='[winner]',csv[5]=='[winner]'\n",
    "        if a < nplayers and b < nplayers:\n",
    "            if (np.random.rand() < pKeep):\n",
    "                if (nplays[a,b] < nKeep) and ( ((nplays[a,:]>0).sum() < nEdge) or ((nplays[:,b]>0).sum() < nEdge) ):\n",
    "\n",
    "                    nplays[a,b] += 1\n",
    "                    nplays[b,a]+=1                \n",
    "\n",
    "                    playerA.append(a+1)\n",
    "                    playerB.append(b+1)\n",
    "                    wins.append(1 if aw else 0) \n",
    "        else:\n",
    "            if (np.random.rand() < pKeep):\n",
    "                if (nplays[a,b] < nKeep) and ( ((nplays[a,:]>0).sum() < nEdge) or ((nplays[:,b]>0).sum() < nEdge) ):\n",
    "                    nplays[a,b] += 1\n",
    "                    nplays[b,a]+=1                      \n",
    "                    \n",
    "                    # involve new players\n",
    "                    playerA_n.append(a+1)\n",
    "                    playerB_n.append(b+1)\n",
    "                    wins_n.append(1 if aw else 0) \n",
    "\n",
    "    return playerid, nplayers,playerA,playerB,wins,nplayers_n,playerA_n,playerB_n,wins_n"
   ]
  },
  {
   "cell_type": "code",
   "execution_count": 50,
   "metadata": {},
   "outputs": [],
   "source": [
    "playerid, nplayers,playerA,playerB,wins,nplayers_n,playerA_n,playerB_n,wins_n = load_data(new=1)"
   ]
  },
  {
   "cell_type": "code",
   "execution_count": 51,
   "metadata": {},
   "outputs": [
    {
     "name": "stdout",
     "output_type": "stream",
     "text": [
      "summary: \n",
      "# players 900\n",
      "# games 2104\n",
      "player A [468, 339, 160, 863, 50, 704, 84, 250, 669, 415]\n",
      "player B [220, 479, 26, 310, 44, 239, 268, 249, 210, 40]\n",
      "wins [0, 1, 0, 0, 1, 0, 1, 0, 0, 0]\n"
     ]
    }
   ],
   "source": [
    "print('summary: ')\n",
    "print('# players', nplayers)\n",
    "print('# games', len(wins))\n",
    "print('player A', playerA[:10])\n",
    "print('player B', playerB[:10])\n",
    "print('wins', wins[:10])"
   ]
  },
  {
   "cell_type": "code",
   "execution_count": 52,
   "metadata": {},
   "outputs": [
    {
     "name": "stdout",
     "output_type": "stream",
     "text": [
      "summary: \n",
      "# players 99\n",
      "# games 10931\n",
      "player A [923, 976, 983, 954, 978, 945, 510, 389, 887, 538]\n",
      "player B [155, 800, 228, 486, 313, 328, 947, 955, 998, 951]\n",
      "wins [1, 1, 1, 0, 0, 0, 1, 0, 1, 0]\n"
     ]
    }
   ],
   "source": [
    "print('summary: ')\n",
    "print('# players', nplayers_n)\n",
    "print('# games', len(wins_n))\n",
    "print('player A', playerA_n[:10])\n",
    "print('player B', playerB_n[:10])\n",
    "print('wins', wins_n[:10])"
   ]
  },
  {
   "cell_type": "markdown",
   "metadata": {},
   "source": [
    "We also need the observed data: number of players and games, which pairs played each game, and who won:"
   ]
  },
  {
   "cell_type": "code",
   "execution_count": 53,
   "metadata": {},
   "outputs": [],
   "source": [
    "skill_data = {\n",
    "    'N': nplayers,\n",
    "    'E': len(wins),\n",
    "    'scale': 0.3,\n",
    "    'win':wins,\n",
    "    'PA': playerA,\n",
    "    'PB': playerB\n",
    "}\n",
    "# Player 1 & 3 played & P1 won; then again; then P2 & P3 (P2 wins), etc."
   ]
  },
  {
   "cell_type": "code",
   "execution_count": 54,
   "metadata": {},
   "outputs": [],
   "source": [
    "fit = sm1.sampling(data=skill_data, iter=1000, chains=4)"
   ]
  },
  {
   "cell_type": "code",
   "execution_count": 55,
   "metadata": {},
   "outputs": [],
   "source": [
    "samples = fit.extract()"
   ]
  },
  {
   "cell_type": "code",
   "execution_count": 56,
   "metadata": {},
   "outputs": [
    {
     "data": {
      "text/plain": [
       "array([ 5.70113698e-01,  2.78207137e+00,  5.36602495e-01,  3.48999487e+00,\n",
       "        2.03588592e+00, -8.00916294e-01,  4.14680189e+00,  5.17175008e-01,\n",
       "        3.63125588e+00,  9.76820936e-01,  1.03310221e+00,  4.23625625e+00,\n",
       "        1.81586409e+00,  2.49307405e+00, -2.06210036e+00,  2.39938323e+00,\n",
       "       -3.70312835e-01, -5.75825530e-01,  8.25664143e-02,  2.41003281e+00,\n",
       "       -1.45214477e+00,  2.18410926e+00,  3.12058281e+00,  3.16169462e+00,\n",
       "        9.15423047e-02,  2.54003156e+00,  2.52100392e+00, -1.24759035e+00,\n",
       "        2.85772741e+00,  3.57598380e+00,  2.27373262e+00, -4.24177759e-01,\n",
       "        1.80579728e+00,  3.40900097e+00,  1.20783829e+00, -2.05808257e+00,\n",
       "       -1.20516553e-01,  2.33704687e+00,  8.98044320e-01,  1.65064891e+00,\n",
       "        1.31033306e+00,  4.19287174e+00,  3.90164412e+00,  3.57632062e-02,\n",
       "       -5.22662990e-01,  2.47881554e-01,  7.58890024e-01,  7.42520567e-02,\n",
       "        5.29177169e-01,  3.42121991e+00,  1.42589760e+00,  3.71279005e+00,\n",
       "        2.47202666e+00, -7.55706475e-01, -3.53300897e+00, -1.56469157e+00,\n",
       "       -1.74113579e+00,  1.68095890e+00,  2.73835504e+00,  9.95162036e-01,\n",
       "        2.35328370e+00,  7.57637499e-01,  4.83522633e+00,  2.41095904e+00,\n",
       "        2.47982364e+00, -2.53118276e+00,  3.55141123e+00,  4.93174104e+00,\n",
       "        4.20246621e-03,  3.13472438e+00, -2.68901060e-01,  1.01768493e-01,\n",
       "       -3.72052140e-01,  3.02178943e+00,  4.37848961e-01,  4.49753588e+00,\n",
       "        2.26532227e+00,  1.12792853e+00,  1.70111448e+00, -9.79814876e-01,\n",
       "        1.33719957e+00,  3.46649127e+00,  2.14493294e+00,  3.15865832e+00,\n",
       "       -1.43438113e+00, -3.46166145e-01,  2.63019346e+00, -2.20750198e+00,\n",
       "       -5.23152238e-01,  1.33285694e-01,  2.04057687e-01,  2.41095809e-01,\n",
       "       -6.78033733e-01, -1.34495782e+00,  2.73164401e-01, -2.21000640e+00,\n",
       "        8.97409282e-01, -9.39210609e-01, -1.46159165e+00,  2.47292563e+00,\n",
       "        4.69191459e-01,  1.97505465e+00,  6.92746267e-01, -3.64929356e-01,\n",
       "        3.44775573e+00,  1.84032475e+00, -4.19329880e-01,  1.80770683e-01,\n",
       "        2.93163271e+00, -4.17419646e-01,  2.29648559e-01,  7.08853700e-01,\n",
       "        1.11013265e+00,  1.21748270e+00, -2.56005092e+00, -9.57194033e-01,\n",
       "       -8.04791045e-01,  4.43599060e-01, -1.86772179e+00,  5.36601464e-01,\n",
       "       -9.42313951e-02,  2.15457918e+00, -9.67978924e-01, -1.32685330e+00,\n",
       "        1.16409998e+00, -1.79074441e-01,  1.49475046e+00, -2.10776356e-01,\n",
       "        1.57625445e+00,  8.41905688e-01,  3.17337125e+00, -2.14434475e+00,\n",
       "        3.49653348e+00, -4.79249992e-01, -1.69491167e+00,  2.96952791e+00,\n",
       "       -1.59665786e+00, -1.31964173e+00, -1.27863817e+00,  2.53068804e+00,\n",
       "        2.37016273e+00, -2.60520203e+00,  6.62114413e-01,  7.20000233e-01,\n",
       "        1.33889239e+00,  1.28734611e+00,  4.62710259e+00,  7.16089087e-01,\n",
       "        1.49549769e+00, -1.98039746e+00, -5.89127478e-01,  1.00493671e+00,\n",
       "       -7.44967382e-01,  1.11611953e+00, -2.15725885e+00,  1.54524305e+00,\n",
       "        1.65718194e+00, -3.35313254e-01, -2.77858227e+00,  2.14947617e-01,\n",
       "        1.34823259e-01,  1.48155967e+00,  1.39672047e+00,  8.60428646e-01,\n",
       "        1.01479890e+00, -5.87386647e-01,  1.32871574e+00, -2.20218854e-01,\n",
       "        7.77253488e-04, -3.40180782e+00,  6.81354502e-01,  9.61154185e-02,\n",
       "       -1.21951294e+00, -2.82020805e-01, -2.24163645e+00,  4.02135566e+00,\n",
       "        1.36135301e+00,  3.23036091e+00,  2.01566744e+00,  1.14260847e-01,\n",
       "        1.52703464e+00,  3.25917373e+00, -5.30830371e-01,  1.17078173e+00,\n",
       "        1.46349796e+00, -2.51838888e+00,  1.88686389e+00,  2.38475985e+00,\n",
       "        8.10435449e-03, -4.11147180e-01, -1.62137251e+00, -2.25662755e+00,\n",
       "        3.60835220e+00, -3.12914472e-01, -2.53848511e+00, -8.55158460e-01,\n",
       "        2.00649958e+00, -1.72840011e+00,  2.68026479e+00,  1.36165650e+00,\n",
       "       -5.91757678e-01,  1.59321690e+00, -1.54086012e+00,  4.28953162e+00,\n",
       "        2.89127519e+00,  2.42758359e+00,  1.72866357e+00, -8.00932712e-01,\n",
       "        4.45092747e-01, -5.99612900e-01,  3.38280583e+00, -1.38085874e+00,\n",
       "        2.62197491e+00,  2.67728057e+00,  4.57492373e-01,  1.52351766e+00,\n",
       "        2.18588521e+00,  1.73963150e+00,  1.53645661e+00,  2.54067846e+00,\n",
       "       -6.67380336e-01, -1.68949766e+00,  2.56504248e+00,  3.26320828e+00,\n",
       "        2.53545474e+00,  1.38154938e+00, -1.28829125e+00, -1.63326763e-01,\n",
       "        1.96028287e+00, -5.44754371e-01,  2.82608856e+00,  7.83229645e-01,\n",
       "       -1.63160266e+00, -1.08859202e-01, -7.68791824e-01, -9.16437023e-01,\n",
       "        1.12115093e+00,  1.08772261e-01,  1.22205654e-01,  1.87636159e+00,\n",
       "       -1.13898986e+00, -2.62569019e+00,  1.38040334e+00,  2.45319476e+00,\n",
       "        1.08967591e+00, -8.79813769e-01,  1.97372765e+00,  2.47496870e+00,\n",
       "        1.96249121e+00,  2.91063711e+00, -4.77872774e-01,  1.02376386e+00,\n",
       "        3.60183289e+00, -1.31341935e+00,  3.89358579e+00,  1.25261647e+00,\n",
       "       -1.17916199e-02,  4.53973479e-02,  1.26480965e+00, -2.45385079e+00,\n",
       "       -7.40398771e-01,  1.00321825e+00, -1.22912182e+00, -3.45971587e-01,\n",
       "       -8.93328292e-03, -3.01854525e-01,  3.99396738e+00,  3.65010695e-03,\n",
       "        4.88971033e-01, -5.29458326e-01,  8.14201147e-01,  1.00647121e+00,\n",
       "        1.75378736e+00, -3.02159734e+00, -1.71586082e+00,  3.61148151e+00,\n",
       "       -1.80319890e+00,  1.83618732e+00, -3.88171667e-01,  8.35362974e-01,\n",
       "       -2.26063949e+00,  1.91350783e+00,  2.51172752e+00,  7.31910391e-01,\n",
       "       -3.36991164e-02,  2.93287810e+00,  3.52321112e-01,  1.73169490e+00,\n",
       "        3.45371917e-01,  3.28758188e+00,  6.91644777e-01, -3.49142507e-01,\n",
       "       -2.62002849e+00,  3.76833052e+00, -9.74883897e-01,  2.18121729e+00,\n",
       "       -2.91815052e+00,  1.91535489e+00, -2.20126600e+00,  1.37184660e+00,\n",
       "        3.55957853e+00,  3.50525076e+00,  6.65012284e-01, -1.78801749e+00,\n",
       "        3.23043943e+00,  9.70487236e-01,  6.60270226e-01,  1.16349945e+00,\n",
       "        1.90738437e+00,  9.84833560e-01, -6.33957140e-01,  2.33914568e+00,\n",
       "        2.03488066e+00,  2.79935895e+00,  2.38914142e+00,  1.83026238e+00,\n",
       "        1.35491609e+00,  4.85402600e+00,  2.20139962e+00,  1.67447079e+00,\n",
       "        1.44317561e+00, -2.31540064e-01,  3.80165785e+00, -2.03781852e+00,\n",
       "       -2.32517996e-01, -6.73687743e-01,  1.82953355e+00,  2.51154825e+00,\n",
       "        9.93274533e-01,  7.13379650e-01,  1.37539575e+00,  2.50427082e+00,\n",
       "       -2.12721763e+00, -2.60664680e+00,  5.08968899e-01,  4.80459699e+00,\n",
       "        7.82752937e-02, -1.40768675e-02,  2.70824903e+00, -2.35652480e+00,\n",
       "       -2.62744269e+00, -5.90418709e-01, -2.02354553e+00,  2.23658999e+00,\n",
       "       -2.40107561e-01, -3.35168593e-01,  1.01572274e-01, -4.89625782e-01,\n",
       "        3.71113791e-01, -3.06663289e+00, -9.68171081e-01,  9.27942162e-01,\n",
       "        1.48232627e-01,  8.99909505e-01, -7.71960681e-01, -2.48468059e+00,\n",
       "       -2.02837453e+00, -7.18741931e-01, -1.21431577e+00,  2.16949182e+00,\n",
       "        2.13483349e+00, -2.36516319e-01,  2.29233033e+00, -1.43675840e-01,\n",
       "       -2.95117290e-01, -3.19543277e+00, -7.01462918e-02, -2.35455740e-01,\n",
       "        2.75809472e+00, -2.67980654e+00, -9.93844272e-01, -2.29526661e+00,\n",
       "        2.12899088e-01, -1.15204075e+00, -1.32150571e-01,  2.13288009e+00,\n",
       "        4.62107629e-01, -6.74275971e-02, -3.94894772e-01,  2.70460964e-01,\n",
       "       -2.92733858e+00, -1.52339421e+00,  4.27046617e-01, -1.78444587e+00,\n",
       "       -2.14234824e+00,  8.59524636e-01, -2.08433523e+00,  1.78749894e+00,\n",
       "        3.30393482e+00, -2.95966728e+00,  1.13475113e+00, -8.12842438e-01,\n",
       "       -1.25379049e+00, -1.70817778e-01,  6.40272709e-01, -2.36474179e+00,\n",
       "        1.74293889e+00,  4.33534197e+00, -2.78935202e+00,  1.60978095e+00,\n",
       "       -6.73592194e-01, -2.90444831e+00,  2.46503747e+00, -8.11967664e-01,\n",
       "       -1.12547186e+00,  2.54039370e+00, -6.61835104e-02, -1.33390935e+00,\n",
       "        1.25670176e+00,  1.39529908e+00,  1.88167391e+00, -6.25818773e-01,\n",
       "       -2.17415914e+00,  9.27741882e-01, -2.25943842e-01, -1.62803037e-01,\n",
       "        1.37195151e+00, -5.40456862e-01,  8.62289837e-01, -3.04772343e-01,\n",
       "       -1.56343032e-01,  3.05565415e+00,  1.60669691e+00,  2.37672163e-01,\n",
       "       -1.16141954e+00, -5.27192787e-01, -7.98525804e-01,  1.80149483e+00,\n",
       "        1.82689441e+00, -1.04708120e+00,  5.01492161e-01, -7.81095609e-01,\n",
       "       -1.81526710e+00,  1.82500843e-01,  1.12894073e+00, -9.78144118e-02,\n",
       "        3.51398866e+00,  2.45063355e+00, -5.08218043e-01, -4.14783830e-01,\n",
       "        2.54790258e+00, -1.47031431e+00,  2.04729898e+00,  2.77404256e-01,\n",
       "        2.59478844e+00, -3.61101463e-01, -7.93253545e-01, -6.39358536e-01,\n",
       "       -6.87499853e-01, -2.05897674e+00, -8.44186132e-01,  1.48425744e+00,\n",
       "       -1.89987575e-04,  3.08630576e+00, -2.26297434e+00, -3.01847678e-01,\n",
       "       -1.98276981e+00, -1.31442256e+00,  1.72033267e+00,  1.92516600e+00,\n",
       "        2.28328327e+00, -2.21152744e+00, -3.19862924e+00, -2.57071284e+00,\n",
       "       -1.37039992e-01,  2.89115649e+00, -2.46051625e+00, -1.48985512e+00,\n",
       "        5.41609098e-01, -2.02769001e+00,  4.76618507e+00,  1.38935437e+00,\n",
       "        6.20991496e-01, -2.20414731e+00, -1.95110869e+00,  7.53796067e-01,\n",
       "       -2.32576089e+00, -1.12647771e+00,  3.44802385e-01, -1.26693727e+00,\n",
       "        1.05585518e+00, -1.84839009e+00,  2.97934877e-01, -4.58586416e+00,\n",
       "       -2.95193808e+00, -2.09320471e-01, -2.16551304e+00,  2.28352928e-01,\n",
       "        9.10115989e-01, -2.52437301e+00, -3.23300208e+00,  8.58696521e-01,\n",
       "       -3.32124712e+00,  8.58900919e-01, -1.29815026e+00, -2.16316376e+00,\n",
       "       -3.48459657e+00, -1.54155646e+00,  2.68611519e+00, -1.27209177e-01,\n",
       "       -5.36075682e-01,  7.03544934e-01, -3.11202392e-01, -2.77004722e+00,\n",
       "       -4.34562197e-01, -1.95551476e+00,  1.74740453e-01,  3.77955739e-02,\n",
       "       -1.25670819e+00,  1.82121466e+00, -7.76081215e-01, -2.71908219e+00,\n",
       "       -4.21684635e+00, -8.22734589e-01, -1.36403224e+00, -1.69867414e+00,\n",
       "        1.10159218e+00, -1.19128206e+00, -2.88410348e+00, -1.35985805e+00,\n",
       "        3.39901217e+00, -2.49069219e+00,  1.80097137e+00, -2.18889471e+00,\n",
       "       -2.08299724e+00, -8.60730635e-01, -3.79350176e+00, -2.91769195e+00,\n",
       "       -6.04430568e-01, -2.34150172e+00, -1.12062361e+00, -1.65422922e+00,\n",
       "        8.88974446e-02, -2.34519677e-01, -2.63263314e+00, -1.04105456e+00,\n",
       "       -2.42782193e+00,  3.17908306e-01, -2.41862206e+00,  2.85235808e+00,\n",
       "       -2.76984032e+00, -2.16071515e+00,  7.67189219e-01, -2.43673729e+00,\n",
       "       -5.75320033e-01,  2.41592892e-01,  3.02149204e+00, -1.00511594e+00,\n",
       "       -9.68134040e-01, -3.03514913e+00,  2.44147980e-01,  6.85378410e-01,\n",
       "        4.63650866e-01,  5.54777440e-01,  1.29215371e-01,  1.33814745e+00,\n",
       "        2.08326695e+00, -2.55067892e+00,  1.09129329e+00, -2.23731434e+00,\n",
       "       -1.02008063e+00, -4.69154221e-01, -4.90614660e-01, -4.57686188e-01,\n",
       "        1.51113413e+00,  1.86317027e-01, -7.38673498e-01,  9.39644842e-01,\n",
       "        7.64482137e-01, -1.72931600e+00, -2.67862020e+00,  1.51058206e+00,\n",
       "       -3.74503305e+00,  1.84249718e-02,  2.29900204e+00,  4.19066176e+00,\n",
       "       -1.30469023e+00, -1.96141620e+00, -2.80296566e+00, -1.72858140e+00,\n",
       "       -6.26028176e-01, -6.03755268e-01,  2.40877534e-01, -1.61723163e+00,\n",
       "       -7.71957323e-01, -1.62276232e+00, -3.94238913e-01, -3.11279607e+00,\n",
       "       -8.11094482e-01,  2.74590596e+00,  2.37947293e+00, -5.56698625e-01,\n",
       "       -1.28680538e-01, -1.85919155e+00, -8.60184368e-01, -6.28712831e-01,\n",
       "        2.40366142e-01, -6.41970690e-01, -1.99096793e+00,  2.38894204e+00,\n",
       "       -2.28624300e-01, -2.32470537e+00, -6.97947655e-01,  3.37572371e-01,\n",
       "       -2.33916882e+00, -5.34975106e-01,  1.20009006e+00,  2.49282656e+00,\n",
       "       -2.55439209e+00, -7.24671139e-01, -5.09918624e-01,  9.90412259e-01,\n",
       "       -8.10153021e-01, -2.93167525e+00,  1.69936180e+00,  1.01540810e+00,\n",
       "       -8.74157764e-01,  8.66227423e-01, -1.44709630e+00, -1.71778902e+00,\n",
       "       -2.47594596e+00, -1.69192112e+00, -2.42360384e+00,  4.82977738e-01,\n",
       "        1.41599507e+00, -1.46974706e+00,  3.50362785e-01,  9.79371616e-01,\n",
       "       -4.99598460e-01,  3.35435512e-01, -2.48337987e+00, -2.30899160e-01,\n",
       "        8.94932679e-02, -1.21099128e+00, -1.49770307e+00, -3.62079267e+00,\n",
       "       -1.19594077e-01, -4.40587223e-01,  3.67049379e-01, -3.51115353e-01,\n",
       "        1.46686764e+00, -1.18278229e+00, -2.20585580e+00, -2.15361421e+00,\n",
       "        2.21508423e+00, -3.24285315e-01,  7.77378172e-01,  2.03374830e+00,\n",
       "       -3.84832429e-01, -1.63627528e+00, -2.64138110e+00,  3.14700752e+00,\n",
       "       -2.22347317e+00, -2.20318574e-01,  5.39899945e-01, -1.99326575e+00,\n",
       "       -5.77538475e-01,  2.81914078e+00, -4.81934603e-01, -1.35740545e+00,\n",
       "       -7.90173161e-01, -4.53490330e-01, -1.67553446e+00, -2.41981089e+00,\n",
       "       -3.01847948e+00, -2.38605370e-01, -1.75784785e+00, -1.53199666e+00,\n",
       "       -2.61295156e+00,  8.77487090e-01, -1.14405304e+00, -4.92435145e-01,\n",
       "       -2.85706715e+00, -1.51198988e+00,  1.77621453e+00,  8.06539208e-01,\n",
       "        3.21028963e-01, -1.33851760e-01,  1.18904253e+00, -2.94898408e-01,\n",
       "       -3.44342827e+00, -6.52657444e-01,  1.31943877e+00,  8.64216722e-01,\n",
       "        1.38229022e+00,  6.36273586e-01, -1.20943530e+00, -2.57884323e+00,\n",
       "       -1.08243690e+00,  5.81505289e-01, -2.52184410e+00,  1.42055829e+00,\n",
       "        1.88400227e+00, -1.28675980e+00,  3.43398061e+00,  5.88934713e-01,\n",
       "        1.07016275e+00, -1.83114304e+00,  1.33915003e+00, -9.36379397e-01,\n",
       "       -4.00290930e-01, -9.17578305e-01, -8.69534612e-01,  6.48172353e-01,\n",
       "       -7.37954336e-01,  4.07899130e-01, -5.45251592e-01,  9.96907357e-01,\n",
       "        1.49966860e+00,  2.08829494e+00,  3.14610177e+00, -2.95698704e-01,\n",
       "        8.13604840e-01, -3.33208975e-01,  1.18591153e+00, -8.62878607e-01,\n",
       "        4.22161600e-01, -9.67563641e-01, -2.41489361e+00,  9.50050415e-01,\n",
       "        2.16340501e-01,  2.80077771e+00, -2.46333386e+00, -2.10678570e+00,\n",
       "        1.46474691e-01, -1.07048403e+00, -1.03136200e+00, -6.29545057e-01,\n",
       "       -7.82453192e-01, -4.56197779e-01, -9.10352012e-01,  4.98320180e-01,\n",
       "        2.43582896e+00,  1.27406270e-01, -4.43929833e-01, -1.01348101e+00,\n",
       "       -2.05247144e+00,  2.85165947e+00,  2.55899221e-01, -2.08834190e+00,\n",
       "        4.46514667e-01, -2.58094377e+00,  8.63582969e-01, -2.66160679e+00,\n",
       "        1.78998716e+00, -1.91769138e+00,  6.35986324e-01, -1.00075460e+00,\n",
       "       -1.13080284e+00,  5.49851870e-02, -3.67687982e-01, -3.95269059e-01,\n",
       "       -2.51689671e+00, -9.70837762e-01, -3.42777764e+00, -6.53530116e-02,\n",
       "        6.33109260e-01, -2.79774313e+00, -2.11956673e+00, -9.91376395e-01,\n",
       "        5.22334061e-01,  2.56561713e+00,  1.52953427e+00, -2.56265205e+00,\n",
       "        1.43458595e+00, -1.00599498e+00, -1.16095983e-01,  9.31323780e-01,\n",
       "       -2.05002274e+00,  1.92585218e+00, -3.23210209e-01, -4.29072201e-03,\n",
       "        2.49005334e+00, -9.61038018e-01, -2.91232749e+00, -9.42097484e-01,\n",
       "       -2.64519684e+00, -4.18670789e+00,  1.05581500e+00,  5.47184249e-01,\n",
       "       -9.34257645e-01, -3.33145793e+00, -2.62196673e+00, -1.82746013e+00,\n",
       "       -7.49057908e-01,  1.94967412e+00, -8.36788044e-01, -9.19864325e-01,\n",
       "        6.23966026e-01, -2.28618441e+00, -7.43107509e-01, -3.24513399e+00,\n",
       "        1.98513121e+00, -1.09496673e+00, -8.05954535e-01, -2.15967731e+00,\n",
       "       -1.91493862e+00, -3.91337358e-01, -7.13362203e-01, -2.40143212e+00,\n",
       "        7.63188879e-01, -1.16514359e+00, -2.33789318e+00, -1.73527470e+00,\n",
       "       -1.83291123e-01,  1.53420872e+00,  2.47502941e+00, -2.02089780e+00,\n",
       "       -1.50575116e+00, -9.59776312e-01, -2.75745289e+00, -2.55523521e+00,\n",
       "       -2.95524735e+00, -6.21617986e-01,  6.97231977e-01, -7.15639757e-01,\n",
       "       -9.60397083e-01, -3.61577357e+00, -2.40389679e+00, -6.94035970e-01,\n",
       "       -2.70118155e+00, -2.19074144e-01,  1.02823438e+00, -2.80557339e+00,\n",
       "       -9.21377700e-01, -9.38909434e-01, -2.16719099e-01, -9.19134960e-01,\n",
       "       -2.57168074e+00, -1.07717363e+00, -4.75128241e-01,  9.82102045e-01,\n",
       "       -2.76724434e+00,  3.58797472e+00,  3.55034275e-01,  4.74491938e-01,\n",
       "        5.91601605e-01,  1.07616789e+00,  1.08149002e+00, -8.07963462e-01,\n",
       "       -1.74655466e+00, -2.52726748e+00, -2.52642890e+00, -2.26066163e+00,\n",
       "       -2.61045881e+00, -4.11570238e-01,  1.47150250e+00, -3.85245863e+00,\n",
       "       -2.84367642e+00, -2.31165539e+00, -2.44037773e+00, -2.55826729e+00,\n",
       "        7.77849857e-01, -1.14910102e+00, -1.64689513e+00, -2.95461589e-01,\n",
       "       -5.66701001e-01, -2.08695089e+00, -2.41488745e+00, -2.66220460e+00,\n",
       "        1.55785439e+00, -8.13655434e-01, -2.88141357e+00,  5.35184897e-03,\n",
       "       -2.58435579e+00,  1.20335910e+00,  6.36405306e-01, -1.43662873e+00,\n",
       "       -3.00348586e+00,  2.09964087e+00, -2.06007381e+00,  2.35906019e+00,\n",
       "       -1.00311472e+00, -2.22681605e+00, -2.09700321e-01, -2.14736283e+00,\n",
       "       -5.45894640e-01, -6.36553980e-01, -2.62342138e-01, -1.40510827e+00,\n",
       "        2.06886302e+00,  6.36572963e-02, -2.49328671e+00, -2.15510469e+00,\n",
       "       -2.82793729e+00, -1.67825068e+00, -3.80814036e-01, -2.65353498e+00,\n",
       "       -2.85022789e+00,  1.13589602e+00,  7.54156921e-01,  2.33495463e+00,\n",
       "       -1.96071660e+00, -1.26136015e+00, -6.68100960e-01,  2.12108310e+00,\n",
       "       -4.33916123e-01,  5.35154013e-01, -6.03240419e-01,  1.83608196e-01])"
      ]
     },
     "execution_count": 56,
     "metadata": {},
     "output_type": "execute_result"
    }
   ],
   "source": [
    "old_skills = samples['skill'].mean(0)\n",
    "old_skills"
   ]
  },
  {
   "cell_type": "markdown",
   "metadata": {},
   "source": [
    "new players"
   ]
  },
  {
   "cell_type": "code",
   "execution_count": 57,
   "metadata": {},
   "outputs": [],
   "source": [
    "skill_data_new = {\n",
    "    'N': nplayers+nplayers_n,\n",
    "    'N1': nplayers,\n",
    "    'E': len(wins_n),\n",
    "    'scale': 0.3,\n",
    "    'win':wins_n,\n",
    "    'PA': playerA_n,\n",
    "    'PB': playerB_n,\n",
    "    'old_skill': old_skills\n",
    "}\n",
    "# Player 1 & 3 played & P1 won; then again; then P2 & P3 (P2 wins), etc."
   ]
  },
  {
   "cell_type": "markdown",
   "metadata": {},
   "source": [
    "Now, we can perform MCMC on the model, and extract the samples:"
   ]
  },
  {
   "cell_type": "code",
   "execution_count": 58,
   "metadata": {},
   "outputs": [],
   "source": [
    "fit = sm2.sampling(data=skill_data_new, iter=1000, chains=4)"
   ]
  },
  {
   "cell_type": "code",
   "execution_count": 59,
   "metadata": {},
   "outputs": [],
   "source": [
    "samples = fit.extract()"
   ]
  },
  {
   "cell_type": "markdown",
   "metadata": {},
   "source": [
    "If we just want the mean estimate for each player's skill level, just take the empirical average over the samples:"
   ]
  },
  {
   "cell_type": "code",
   "execution_count": 60,
   "metadata": {},
   "outputs": [
    {
     "data": {
      "text/plain": [
       "(2000, 999)"
      ]
     },
     "execution_count": 60,
     "metadata": {},
     "output_type": "execute_result"
    }
   ],
   "source": [
    "samples['skill'].shape # 2*100 iterations? 999 players"
   ]
  },
  {
   "cell_type": "markdown",
   "metadata": {},
   "source": [
    "If we want to predict which player will win, we might use a direct estimator of that quantity based on the sample values:"
   ]
  },
  {
   "cell_type": "code",
   "execution_count": 62,
   "metadata": {},
   "outputs": [
    {
     "name": "stdout",
     "output_type": "stream",
     "text": [
      "0.3498901548841475\n"
     ]
    }
   ],
   "source": [
    "# Player 0 vs Player 1 prediction:\n",
    "def logit(z): return 1./(1.+np.exp(-z))\n",
    "\n",
    "# Use our model's win probability function (logistic of scaled difference)\n",
    "#  using the predicted skill difference for each sample:\n",
    "prob = logit( skill_data['scale']*(samples['skill'][:,0]-samples['skill'][:,1]) ).mean()\n",
    "\n",
    "print(prob)"
   ]
  },
  {
   "cell_type": "markdown",
   "metadata": {},
   "source": [
    "Remember to save the prediction!"
   ]
  },
  {
   "cell_type": "code",
   "execution_count": 63,
   "metadata": {},
   "outputs": [],
   "source": [
    "with open('skill_hat_new.pkl', 'wb') as f: \n",
    "    pickle.dump(samples['skill'], f)"
   ]
  },
  {
   "cell_type": "markdown",
   "metadata": {},
   "source": [
    "## Sample Model Evaluation"
   ]
  },
  {
   "cell_type": "code",
   "execution_count": 64,
   "metadata": {},
   "outputs": [],
   "source": [
    "skill_hat = pickle.load(open('skill_hat_new.pkl', 'rb'))"
   ]
  },
  {
   "cell_type": "code",
   "execution_count": 71,
   "metadata": {},
   "outputs": [],
   "source": [
    "def load_valid_data(dir='data/', pKeep=1.0, nEdge=3, nKeep=5, opt='valid'):\n",
    "    with open(dir+opt+'.csv', encoding='utf-8') as f:\n",
    "        lines = f.read().split('\\n')\n",
    "\n",
    "    p = 0\n",
    "    playerid = {}\n",
    "    for i in range(len(lines)):\n",
    "        csv = lines[i].split(',')\n",
    "        if len(csv) != 10: \n",
    "            continue   # parse error or blank line\n",
    "        player0,player1 = csv[1],csv[4]\n",
    "        if player0 not in playerid:\n",
    "            playerid[player0]=p\n",
    "            p+=1\n",
    "        if player1 not in playerid:\n",
    "            playerid[player1]=p\n",
    "            p+=1\n",
    "\n",
    "    nplayers = len(playerid)\n",
    "    playername = ['']*nplayers\n",
    "    for player in playerid:\n",
    "        playername[ playerid[player] ]=player  # id to name lookup\n",
    "\n",
    "\n",
    "  # Sparsifying parameters (discard some training examples):\n",
    "  # pKeep = 1.0   # fraction of edges to consider (immed. throw out 1-p edges)\n",
    "  # nEdge = 3     # try to keep nEdge opponents per player (may be more; asymmetric)\n",
    "  # nKeep = 5     # keep at most nKeep games per opponent pairs (play each other multiple times)\n",
    "    \n",
    "    games = []\n",
    "    nplays, nwins = np.zeros( (nplayers,nplayers) ), np.zeros( (nplayers,nplayers) )\n",
    "    for i in range(len(lines)):\n",
    "        csv = lines[i].split(',')\n",
    "        if len(csv) != 10:\n",
    "            continue   # parse error or blank line\n",
    "        a,b = playerid[csv[1]],playerid[csv[4]]\n",
    "        aw,bw = csv[2]=='[winner]',csv[5]=='[winner]'\n",
    "        \n",
    "        if (np.random.rand() < pKeep):\n",
    "            if (nplays[a,b] < nKeep) and ( ((nplays[a,:]>0).sum() < nEdge) or ((nplays[:,b]>0).sum() < nEdge) ):\n",
    "                nplays[a,b] += 1\n",
    "                nplays[b,a]+=1\n",
    "                nwins[a,b] += aw\n",
    "                nwins[b,a] += bw\n",
    "    \n",
    "    return nplayers, nplays, nwins, games\n"
   ]
  },
  {
   "cell_type": "code",
   "execution_count": 72,
   "metadata": {},
   "outputs": [],
   "source": [
    "nplayers_val, nplays_val, nwins_val, games_val = load_valid_data()"
   ]
  },
  {
   "cell_type": "code",
   "execution_count": 73,
   "metadata": {},
   "outputs": [
    {
     "name": "stdout",
     "output_type": "stream",
     "text": [
      "summary:  999\n",
      "(999, 999) 188014.0\n",
      "(999, 999) 94291.0\n",
      "games 0\n"
     ]
    }
   ],
   "source": [
    "print('summary: ', nplayers_val)\n",
    "print(nplays_val.shape, nplays_val.sum())\n",
    "print(nwins_val.shape, nwins_val.sum())\n",
    "print('games', len(games_val))"
   ]
  },
  {
   "cell_type": "code",
   "execution_count": 74,
   "metadata": {},
   "outputs": [],
   "source": [
    "def logit(z): return 1./(1.+np.exp(-z))\n",
    "\n",
    "def prediction_loss(skill, nplayers, nplays, nwins, games):\n",
    "    \n",
    "    loss = 0.\n",
    "    binary_loss = 0.\n",
    "    for i in range(nplayers):\n",
    "        for j in range(i+1, nplayers):\n",
    "            if nplays[i, j] == 0:\n",
    "                continue\n",
    "            prob = nwins[i,j] / nplays[i,j]\n",
    "            prob_hat = logit( skill_data['scale']*(skill[:,i]-skill[:,j]) ).mean()\n",
    "            loss += np.abs(prob_hat - prob)\n",
    "            binary_loss += np.logical_xor(prob_hat >= 0.5, prob >= 0.5)\n",
    "    \n",
    "    loss /= (nplays > 0).sum()/2\n",
    "    binary_loss /= (nplays > 0).sum()/2\n",
    "    \n",
    "    return loss, binary_loss\n"
   ]
  },
  {
   "cell_type": "code",
   "execution_count": 75,
   "metadata": {},
   "outputs": [],
   "source": [
    "loss, binary_loss = prediction_loss(skill_hat, nplayers_val, nplays_val, nwins_val, games_val)"
   ]
  },
  {
   "cell_type": "code",
   "execution_count": 76,
   "metadata": {},
   "outputs": [
    {
     "data": {
      "text/plain": [
       "(0.4104668279686735, 0.44798030023204055)"
      ]
     },
     "execution_count": 76,
     "metadata": {},
     "output_type": "execute_result"
    }
   ],
   "source": [
    "loss, binary_loss"
   ]
  },
  {
   "cell_type": "code",
   "execution_count": null,
   "metadata": {},
   "outputs": [],
   "source": []
  }
 ],
 "metadata": {
  "kernelspec": {
   "display_name": "Python 3",
   "language": "python",
   "name": "python3"
  },
  "language_info": {
   "codemirror_mode": {
    "name": "ipython",
    "version": 3
   },
   "file_extension": ".py",
   "mimetype": "text/x-python",
   "name": "python",
   "nbconvert_exporter": "python",
   "pygments_lexer": "ipython3",
   "version": "3.7.4"
  }
 },
 "nbformat": 4,
 "nbformat_minor": 2
}
