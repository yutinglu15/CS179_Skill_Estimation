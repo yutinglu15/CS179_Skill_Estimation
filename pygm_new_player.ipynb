{
 "cells": [
  {
   "cell_type": "code",
   "execution_count": 36,
   "metadata": {},
   "outputs": [],
   "source": [
    "import sys\n",
    "import os\n",
    "\n",
    "sys.path.append(r'D:\\Study\\CS179\\pyGM')\n",
    "import pyGM as gm\n",
    "import numpy as np\n",
    "import matplotlib.pyplot as plt\n",
    "from load_data import *\n",
    "%matplotlib inline     "
   ]
  },
  {
   "cell_type": "code",
   "execution_count": 37,
   "metadata": {},
   "outputs": [],
   "source": [
    "ver_map = load_counter()\n",
    "playerid, nplayers, playerA, playerB, raceA, raceB, wins, counters = load_data(ver_map)\n",
    "playerid_val, nplayers_val, nplays_val, nwins_val, games_val = load_valid_data(playerid, ver_map)\n",
    "assert playerid == playerid_val"
   ]
  },
  {
   "cell_type": "code",
   "execution_count": 3,
   "metadata": {},
   "outputs": [
    {
     "name": "stdout",
     "output_type": "stream",
     "text": [
      "summary: \n",
      "# players 999\n",
      "# games 19008\n",
      "player A [1, 1, 1, 1, 1, 1, 1, 1, 1, 1]\n",
      "player B [2, 3, 4, 5, 6, 7, 8, 9, 10, 9]\n",
      "wins [0, 0, 0, 0, 1, 1, 1, 0, 0, 1]\n"
     ]
    }
   ],
   "source": [
    "print('summary: ')\n",
    "print('# players', nplayers)\n",
    "print('# games', len(wins))\n",
    "print('player A', playerA[:10])\n",
    "print('player B', playerB[:10])\n",
    "print('wins', wins[:10])"
   ]
  },
  {
   "cell_type": "markdown",
   "metadata": {},
   "source": [
    "### calculate the original skill level"
   ]
  },
  {
   "cell_type": "code",
   "execution_count": 21,
   "metadata": {},
   "outputs": [],
   "source": [
    "def gm_model(nplayers, playerA, playerB, wins):\n",
    "    nlevels = 10   # let's say 10 discrete skill levels\n",
    "    scale = 0.8     # this scales how skill difference translates to win probability\n",
    "\n",
    "    X = [None]*nplayers\n",
    "    for i in range(nplayers):\n",
    "        X[i] = gm.Var(i, nlevels)   \n",
    "\n",
    "    Pwin = np.zeros( (nlevels,nlevels) )\n",
    "    for i in range(nlevels):\n",
    "        for j in range(nlevels):\n",
    "            diff = i-j                   # find the advantage of Pi over Pj, then \n",
    "            Pwin[i,j] = (1./(1+np.exp(-scale*diff)))  # Pwin = logistic of advantage\n",
    "            Pwin[i,j] += 1e-8\n",
    "\n",
    "    # before any games, uniform belief over skill levels for each player:\n",
    "    factors = [ gm.Factor([X[i]],1./nlevels) for i in range(nplayers) ]\n",
    "\n",
    "    # Now add the information from each game:\n",
    "    for P1,P2,win in zip(playerA, playerB, wins):\n",
    "    #     P1,P2,win = g[0],g[1],g[2]\n",
    "        if P1>P2: P1,P2,win=P2,P1,-win  # (need to make player IDs sorted...)\n",
    "        P1, P2 = P1 -1, P2 -1\n",
    "        factors.append(gm.Factor([X[P1],X[P2]], Pwin if win>0 else 1-Pwin) )\n",
    "\n",
    "    model = gm.GraphModel(factors)\n",
    "    model.makeMinimal()\n",
    "\n",
    "    from pyGM.messagepass import LBP, NMF\n",
    "    #     lnZ,bel = LBP(model, maxIter=10, verbose=True)   # loopy BP\n",
    "    lnZ,bel = NMF(model, maxIter=10, verbose=True)  # Mean field\n",
    "    \n",
    "    return bel,X,Pwin"
   ]
  },
  {
   "cell_type": "code",
   "execution_count": 22,
   "metadata": {},
   "outputs": [
    {
     "name": "stdout",
     "output_type": "stream",
     "text": [
      "Iter 0: -28612.0153185495\n",
      "Iter 1: -9901.50751968022\n",
      "Iter 2: -9069.357547929008\n",
      "Iter 3: -8985.570175272194\n",
      "Iter 4: -8951.05006899707\n",
      "Iter 5: -8945.724970392788\n",
      "Iter 6: -8943.485356260082\n",
      "Iter 7: -8938.889951384426\n",
      "Iter 8: -8935.263574693605\n",
      "Iter 9: -8934.049969004747\n",
      "Iter 10: -8933.804487389001\n"
     ]
    }
   ],
   "source": [
    "bel,X, Pwin = gm_model(nplayers, playerA, playerB, wins)"
   ]
  },
  {
   "cell_type": "code",
   "execution_count": 35,
   "metadata": {},
   "outputs": [
    {
     "data": {
      "text/plain": [
       "1.1912739888610555"
      ]
     },
     "execution_count": 35,
     "metadata": {},
     "output_type": "execute_result"
    }
   ],
   "source": [
    "nlevels = 10   # let's say 10 discrete skill levels\n",
    "scale = 0.8  \n",
    "original_skill = bel[998].table.dot(np.arange(nlevels))\n",
    "original_skill"
   ]
  },
  {
   "cell_type": "markdown",
   "metadata": {},
   "source": [
    "original skill level of the last player: 1.1912739888610562"
   ]
  },
  {
   "cell_type": "markdown",
   "metadata": {},
   "source": [
    "### prune out the last player\n",
    "now we will prune out all the matchs of the last player"
   ]
  },
  {
   "cell_type": "code",
   "execution_count": 41,
   "metadata": {},
   "outputs": [],
   "source": [
    "def prune_one_player(playerA, playerB, wins, nprune):\n",
    "    P1_new, P2_new, wins_new = [], [], []\n",
    "    prune_match = []\n",
    "    for P1, P2, win in zip(playerA, playerB, wins):\n",
    "        if(P1 != nprune and P2 != nprune):\n",
    "            P1_new.append(P1)\n",
    "            P2_new.append(P2)\n",
    "            wins_new.append(win)\n",
    "        else:\n",
    "            prune_match.append((P1, P2, win))\n",
    "    \n",
    "    return P1_new, P2_new, wins_new, prune_match"
   ]
  },
  {
   "cell_type": "code",
   "execution_count": 42,
   "metadata": {},
   "outputs": [],
   "source": [
    "prune_player = 998\n",
    "original_skill = bel[prune_player].table.dot(np.arange(nlevels))\n",
    "P1_new, P2_new, wins_new, prune_match = prune_one_player(playerA, playerB, wins, prune_player)"
   ]
  },
  {
   "cell_type": "code",
   "execution_count": 43,
   "metadata": {},
   "outputs": [
    {
     "name": "stdout",
     "output_type": "stream",
     "text": [
      "18994 19008\n",
      "18994 19008\n",
      "18994 19008\n"
     ]
    }
   ],
   "source": [
    "print(len(P1_new), len(playerA))\n",
    "print(len(wins_new), len(wins))\n",
    "print(len(P2_new), len(playerB))"
   ]
  },
  {
   "cell_type": "markdown",
   "metadata": {},
   "source": [
    "### iteration to add match"
   ]
  },
  {
   "cell_type": "code",
   "execution_count": 44,
   "metadata": {
    "scrolled": false
   },
   "outputs": [
    {
     "name": "stdout",
     "output_type": "stream",
     "text": [
      "Iter 0: -28592.446914407283\n",
      "Iter 1: -9892.379669024964\n",
      "Iter 2: -9061.949004375894\n",
      "Iter 3: -8977.615150698497\n",
      "Iter 4: -8943.019400754807\n",
      "Iter 5: -8937.307017185347\n",
      "Iter 6: -8935.050100009936\n",
      "Iter 7: -8930.573106026693\n",
      "Iter 8: -8926.857805607318\n",
      "Iter 9: -8925.611690070564\n",
      "Iter 10: -8925.350802529536\n",
      "new estimate skill:  1.191056226108947\n",
      "loss:  0.00021776275210849683\n",
      "Iter 0: -28593.952175847688\n",
      "Iter 1: -9893.084695006595\n",
      "Iter 2: -9062.343924219034\n",
      "Iter 3: -8977.986862045524\n",
      "Iter 4: -8943.359033088627\n",
      "Iter 5: -8937.638768836794\n",
      "Iter 6: -8935.371344208394\n",
      "Iter 7: -8930.829145127058\n",
      "Iter 8: -8927.167439620824\n",
      "Iter 9: -8925.937206865912\n",
      "Iter 10: -8925.683213847858\n",
      "new estimate skill:  1.19114366019219\n",
      "loss:  0.00013032866886542038\n",
      "Iter 0: -28595.45743819092\n",
      "Iter 1: -9894.016775207487\n",
      "Iter 2: -9062.78470054973\n",
      "Iter 3: -8978.66240000708\n",
      "Iter 4: -8943.93282006765\n",
      "Iter 5: -8938.610412487873\n",
      "Iter 6: -8936.400777051369\n",
      "Iter 7: -8931.975584724409\n",
      "Iter 8: -8928.203022588727\n",
      "Iter 9: -8926.936344619522\n",
      "Iter 10: -8926.667560082933\n",
      "new estimate skill:  1.1910387299007825\n",
      "loss:  0.0002352589602729882\n",
      "Iter 0: -28596.96270053415\n",
      "Iter 1: -9893.77024692385\n",
      "Iter 2: -9062.889961312887\n",
      "Iter 3: -8978.99153204139\n",
      "Iter 4: -8944.326432192243\n",
      "Iter 5: -8939.1880809466\n",
      "Iter 6: -8937.00690291982\n",
      "Iter 7: -8932.659034606897\n",
      "Iter 8: -8928.810439842213\n",
      "Iter 9: -8927.51935138724\n",
      "Iter 10: -8927.240477037072\n",
      "new estimate skill:  1.1909734862492454\n",
      "loss:  0.0003005026118101384\n",
      "Iter 0: -28598.467961974555\n",
      "Iter 1: -9894.381311902447\n",
      "Iter 2: -9063.390248543014\n",
      "Iter 3: -8979.451648403321\n",
      "Iter 4: -8944.755579017648\n",
      "Iter 5: -8939.62199300286\n",
      "Iter 6: -8937.42467565224\n",
      "Iter 7: -8932.977588846003\n",
      "Iter 8: -8929.196555539394\n",
      "Iter 9: -8927.93117054076\n",
      "Iter 10: -8927.665759102243\n",
      "new estimate skill:  1.1911062981513278\n",
      "loss:  0.00016769070972766364\n",
      "Iter 0: -28599.973223414956\n",
      "Iter 1: -9894.91055908321\n",
      "Iter 2: -9063.77714443338\n",
      "Iter 3: -8979.79005538819\n",
      "Iter 4: -8945.073430773416\n",
      "Iter 5: -8939.936279290598\n",
      "Iter 6: -8937.725676520971\n",
      "Iter 7: -8933.201439097153\n",
      "Iter 8: -8929.47558385496\n",
      "Iter 9: -8928.231006178683\n",
      "Iter 10: -8927.975635983712\n",
      "new estimate skill:  1.1912059986374577\n",
      "loss:  6.79902235978247e-05\n",
      "Iter 0: -28601.47848485536\n",
      "Iter 1: -9895.911444142697\n",
      "Iter 2: -9064.326041728962\n",
      "Iter 3: -8980.429990550547\n",
      "Iter 4: -8945.791204889356\n",
      "Iter 5: -8940.60605500328\n",
      "Iter 6: -8938.387822040413\n",
      "Iter 7: -8933.845413152954\n",
      "Iter 8: -8930.144820852836\n",
      "Iter 9: -8928.906856817683\n",
      "Iter 10: -8928.652939005055\n",
      "new estimate skill:  1.191222890682909\n",
      "loss:  5.109817814652473e-05\n",
      "Iter 0: -28602.983746295766\n",
      "Iter 1: -9896.50496757279\n",
      "Iter 2: -9064.754853871873\n",
      "Iter 3: -8980.901700158453\n",
      "Iter 4: -8946.332568800803\n",
      "Iter 5: -8941.102701400292\n",
      "Iter 6: -8938.876664001815\n",
      "Iter 7: -8934.312322743172\n",
      "Iter 8: -8930.636108154175\n",
      "Iter 9: -8929.405271983656\n",
      "Iter 10: -8929.153562477675\n",
      "new estimate skill:  1.1912462016187515\n",
      "loss:  2.7787242304011528e-05\n",
      "Iter 0: -28604.48900773617\n",
      "Iter 1: -9896.79525048754\n",
      "Iter 2: -9064.811175263443\n",
      "Iter 3: -8980.910715892978\n",
      "Iter 4: -8946.351008635795\n",
      "Iter 5: -8941.150964426435\n",
      "Iter 6: -8938.927163321321\n",
      "Iter 7: -8934.316619920655\n",
      "Iter 8: -8930.685650972657\n",
      "Iter 9: -8929.467687186676\n",
      "Iter 10: -8929.22102721125\n",
      "new estimate skill:  1.19128655788493\n",
      "loss:  -1.2569023874586804e-05\n",
      "Iter 0: -28605.9942700794\n",
      "Iter 1: -9896.99409345693\n",
      "Iter 2: -9065.124278456757\n",
      "Iter 3: -8981.279499295746\n",
      "Iter 4: -8946.704382397958\n",
      "Iter 5: -8941.492190205025\n",
      "Iter 6: -8939.27005492915\n",
      "Iter 7: -8934.664457696657\n",
      "Iter 8: -8931.028067560896\n",
      "Iter 9: -8929.809566433363\n",
      "Iter 10: -8929.56304229749\n",
      "new estimate skill:  1.1912947366934938\n",
      "loss:  -2.0747832438328118e-05\n",
      "Iter 0: -28607.499531519807\n",
      "Iter 1: -9898.975815370817\n",
      "Iter 2: -9066.61021985798\n",
      "Iter 3: -8982.662779962411\n",
      "Iter 4: -8948.160359228452\n",
      "Iter 5: -8942.977168259205\n",
      "Iter 6: -8940.749208378562\n",
      "Iter 7: -8936.143267993984\n",
      "Iter 8: -8932.512626813545\n",
      "Iter 9: -8931.293061291051\n",
      "Iter 10: -8931.045077702312\n",
      "new estimate skill:  1.1912577403484237\n",
      "loss:  1.6248512631822365e-05\n",
      "Iter 0: -28609.004793863034\n",
      "Iter 1: -9899.305658816364\n",
      "Iter 2: -9067.041234441069\n",
      "Iter 3: -8983.132371227175\n",
      "Iter 4: -8948.60622825005\n",
      "Iter 5: -8943.422375174945\n",
      "Iter 6: -8941.198153724332\n",
      "Iter 7: -8936.608489354387\n",
      "Iter 8: -8932.963552195653\n",
      "Iter 9: -8931.74035036171\n",
      "Iter 10: -8931.491106516954\n",
      "new estimate skill:  1.1912504186869084\n",
      "loss:  2.357017414711393e-05\n",
      "Iter 0: -28610.510056206265\n",
      "Iter 1: -9899.7909217531\n",
      "Iter 2: -9067.574659813548\n",
      "Iter 3: -8983.708666170101\n",
      "Iter 4: -8949.17698362812\n",
      "Iter 5: -8943.98334716443\n",
      "Iter 6: -8941.755023472893\n",
      "Iter 7: -8937.141301764934\n",
      "Iter 8: -8933.51211139733\n",
      "Iter 9: -8932.293645598616\n",
      "Iter 10: -8932.046657497229\n",
      "new estimate skill:  1.1912646532829478\n",
      "loss:  9.335578107672049e-06\n",
      "Iter 0: -28612.0153185495\n",
      "Iter 1: -9901.50751968022\n",
      "Iter 2: -9069.35754792901\n",
      "Iter 3: -8985.570175272194\n",
      "Iter 4: -8951.05006899707\n",
      "Iter 5: -8945.724970392788\n",
      "Iter 6: -8943.485356260082\n",
      "Iter 7: -8938.889951384426\n",
      "Iter 8: -8935.263574693603\n",
      "Iter 9: -8934.049969004747\n",
      "Iter 10: -8933.804487389001\n",
      "new estimate skill:  1.191273988861056\n",
      "loss:  -4.440892098500626e-16\n"
     ]
    },
    {
     "data": {
      "text/plain": [
       "[<matplotlib.lines.Line2D at 0x123d2c1be80>]"
      ]
     },
     "execution_count": 44,
     "metadata": {},
     "output_type": "execute_result"
    },
    {
     "data": {
      "image/png": "[encoded data removed]",
      "text/plain": [
       "<Figure size 432x288 with 1 Axes>"
      ]
     },
     "metadata": {
      "needs_background": "light"
     },
     "output_type": "display_data"
    }
   ],
   "source": [
    "losses = []\n",
    "\n",
    "original_skill = bel[998].table.dot(np.arange(nlevels))\n",
    "for i in range(len(prune_match)):\n",
    "    pA, pB, win = prune_match[i]\n",
    "    P1_new.append(pA)\n",
    "    P2_new.append(pB)\n",
    "    wins_new.append(win)\n",
    "    bel_,X_, _ = gm_model(nplayers, P1_new, P2_new, wins_new)\n",
    "    new_skill = bel_[prune_player].table.dot(np.arange(nlevels))\n",
    "    print('new estimate skill: ', new_skill)\n",
    "    print(\"loss: \", original_skill - new_skill)\n",
    "    losses.append(original_skill - new_skill)\n",
    "    \n",
    "plt.plot([i for i in range(len(prune_match))], losses)"
   ]
  },
  {
   "cell_type": "markdown",
   "metadata": {},
   "source": [
    "### evaluation"
   ]
  },
  {
   "cell_type": "code",
   "execution_count": 19,
   "metadata": {},
   "outputs": [],
   "source": [
    "def prediction_loss(bel, X, nplayers, nplays, nwins, games):\n",
    "    \n",
    "    loss = 0.\n",
    "    binary_loss = 0.\n",
    "    for i in range(nplayers):\n",
    "        for j in range(i+1, nplayers):\n",
    "            if nplays[i, j] == 0:\n",
    "                continue\n",
    "            prob = nwins[i,j] / nplays[i,j]\n",
    "            prob_hat = (bel[i]*bel[j]*gm.Factor([X[i],X[j]],Pwin)).table.sum()\n",
    "            loss += np.abs(prob_hat - prob)\n",
    "            binary_loss += np.logical_xor(prob_hat >= 0.5, prob >= 0.5)\n",
    "    \n",
    "    loss /= (nplays > 0).sum()/2\n",
    "    binary_loss /= (nplays > 0).sum()/2\n",
    "    \n",
    "    return loss, binary_loss"
   ]
  },
  {
   "cell_type": "code",
   "execution_count": 20,
   "metadata": {},
   "outputs": [
    {
     "ename": "NameError",
     "evalue": "name 'Pwin' is not defined",
     "output_type": "error",
     "traceback": [
      "\u001b[1;31m---------------------------------------------------------------------------\u001b[0m",
      "\u001b[1;31mNameError\u001b[0m                                 Traceback (most recent call last)",
      "\u001b[1;32m<ipython-input-20-a40613a9fc38>\u001b[0m in \u001b[0;36m<module>\u001b[1;34m\u001b[0m\n\u001b[0;32m      1\u001b[0m \u001b[0mskill\u001b[0m \u001b[1;33m=\u001b[0m \u001b[1;33m[\u001b[0m \u001b[0mbel\u001b[0m\u001b[1;33m[\u001b[0m\u001b[0mi\u001b[0m\u001b[1;33m]\u001b[0m\u001b[1;33m.\u001b[0m\u001b[0mtable\u001b[0m\u001b[1;33m.\u001b[0m\u001b[0mdot\u001b[0m\u001b[1;33m(\u001b[0m\u001b[0mnp\u001b[0m\u001b[1;33m.\u001b[0m\u001b[0marange\u001b[0m\u001b[1;33m(\u001b[0m\u001b[0mnlevels\u001b[0m\u001b[1;33m)\u001b[0m\u001b[1;33m)\u001b[0m \u001b[1;32mfor\u001b[0m \u001b[0mi\u001b[0m \u001b[1;32min\u001b[0m \u001b[0mrange\u001b[0m\u001b[1;33m(\u001b[0m\u001b[0mnplayers\u001b[0m\u001b[1;33m)\u001b[0m\u001b[1;33m]\u001b[0m\u001b[1;33m\u001b[0m\u001b[1;33m\u001b[0m\u001b[0m\n\u001b[1;32m----> 2\u001b[1;33m \u001b[0mloss\u001b[0m\u001b[1;33m,\u001b[0m \u001b[0mbinary_loss\u001b[0m \u001b[1;33m=\u001b[0m \u001b[0mprediction_loss\u001b[0m\u001b[1;33m(\u001b[0m\u001b[0mbel\u001b[0m\u001b[1;33m,\u001b[0m \u001b[0mX\u001b[0m\u001b[1;33m,\u001b[0m \u001b[0mnplayers_val\u001b[0m\u001b[1;33m,\u001b[0m \u001b[0mnplays_val\u001b[0m\u001b[1;33m,\u001b[0m \u001b[0mnwins_val\u001b[0m\u001b[1;33m,\u001b[0m \u001b[0mgames_val\u001b[0m\u001b[1;33m)\u001b[0m\u001b[1;33m\u001b[0m\u001b[1;33m\u001b[0m\u001b[0m\n\u001b[0m",
      "\u001b[1;32m<ipython-input-19-6cab5cc27fab>\u001b[0m in \u001b[0;36mprediction_loss\u001b[1;34m(bel, X, nplayers, nplays, nwins, games)\u001b[0m\n\u001b[0;32m      8\u001b[0m                 \u001b[1;32mcontinue\u001b[0m\u001b[1;33m\u001b[0m\u001b[1;33m\u001b[0m\u001b[0m\n\u001b[0;32m      9\u001b[0m             \u001b[0mprob\u001b[0m \u001b[1;33m=\u001b[0m \u001b[0mnwins\u001b[0m\u001b[1;33m[\u001b[0m\u001b[0mi\u001b[0m\u001b[1;33m,\u001b[0m\u001b[0mj\u001b[0m\u001b[1;33m]\u001b[0m \u001b[1;33m/\u001b[0m \u001b[0mnplays\u001b[0m\u001b[1;33m[\u001b[0m\u001b[0mi\u001b[0m\u001b[1;33m,\u001b[0m\u001b[0mj\u001b[0m\u001b[1;33m]\u001b[0m\u001b[1;33m\u001b[0m\u001b[1;33m\u001b[0m\u001b[0m\n\u001b[1;32m---> 10\u001b[1;33m             \u001b[0mprob_hat\u001b[0m \u001b[1;33m=\u001b[0m \u001b[1;33m(\u001b[0m\u001b[0mbel\u001b[0m\u001b[1;33m[\u001b[0m\u001b[0mi\u001b[0m\u001b[1;33m]\u001b[0m\u001b[1;33m*\u001b[0m\u001b[0mbel\u001b[0m\u001b[1;33m[\u001b[0m\u001b[0mj\u001b[0m\u001b[1;33m]\u001b[0m\u001b[1;33m*\u001b[0m\u001b[0mgm\u001b[0m\u001b[1;33m.\u001b[0m\u001b[0mFactor\u001b[0m\u001b[1;33m(\u001b[0m\u001b[1;33m[\u001b[0m\u001b[0mX\u001b[0m\u001b[1;33m[\u001b[0m\u001b[0mi\u001b[0m\u001b[1;33m]\u001b[0m\u001b[1;33m,\u001b[0m\u001b[0mX\u001b[0m\u001b[1;33m[\u001b[0m\u001b[0mj\u001b[0m\u001b[1;33m]\u001b[0m\u001b[1;33m]\u001b[0m\u001b[1;33m,\u001b[0m\u001b[0mPwin\u001b[0m\u001b[1;33m)\u001b[0m\u001b[1;33m)\u001b[0m\u001b[1;33m.\u001b[0m\u001b[0mtable\u001b[0m\u001b[1;33m.\u001b[0m\u001b[0msum\u001b[0m\u001b[1;33m(\u001b[0m\u001b[1;33m)\u001b[0m\u001b[1;33m\u001b[0m\u001b[1;33m\u001b[0m\u001b[0m\n\u001b[0m\u001b[0;32m     11\u001b[0m             \u001b[0mloss\u001b[0m \u001b[1;33m+=\u001b[0m \u001b[0mnp\u001b[0m\u001b[1;33m.\u001b[0m\u001b[0mabs\u001b[0m\u001b[1;33m(\u001b[0m\u001b[0mprob_hat\u001b[0m \u001b[1;33m-\u001b[0m \u001b[0mprob\u001b[0m\u001b[1;33m)\u001b[0m\u001b[1;33m\u001b[0m\u001b[1;33m\u001b[0m\u001b[0m\n\u001b[0;32m     12\u001b[0m             \u001b[0mbinary_loss\u001b[0m \u001b[1;33m+=\u001b[0m \u001b[0mnp\u001b[0m\u001b[1;33m.\u001b[0m\u001b[0mlogical_xor\u001b[0m\u001b[1;33m(\u001b[0m\u001b[0mprob_hat\u001b[0m \u001b[1;33m>=\u001b[0m \u001b[1;36m0.5\u001b[0m\u001b[1;33m,\u001b[0m \u001b[0mprob\u001b[0m \u001b[1;33m>=\u001b[0m \u001b[1;36m0.5\u001b[0m\u001b[1;33m)\u001b[0m\u001b[1;33m\u001b[0m\u001b[1;33m\u001b[0m\u001b[0m\n",
      "\u001b[1;31mNameError\u001b[0m: name 'Pwin' is not defined"
     ]
    }
   ],
   "source": [
    "skill = [ bel[i].table.dot(np.arange(nlevels)) for i in range(nplayers)]\n",
    "loss, binary_loss = prediction_loss(bel, X, nplayers_val, nplays_val, nwins_val, games_val)"
   ]
  },
  {
   "cell_type": "code",
   "execution_count": 18,
   "metadata": {},
   "outputs": [
    {
     "data": {
      "text/plain": [
       "(0.2243461753568686, 0.15777106411547498)"
      ]
     },
     "execution_count": 18,
     "metadata": {},
     "output_type": "execute_result"
    }
   ],
   "source": [
    "loss, binary_loss"
   ]
  },
  {
   "cell_type": "code",
   "execution_count": null,
   "metadata": {},
   "outputs": [],
   "source": []
  }
 ],
 "metadata": {
  "kernelspec": {
   "display_name": "Python 3",
   "language": "python",
   "name": "python3"
  },
  "language_info": {
   "codemirror_mode": {
    "name": "ipython",
    "version": 3
   },
   "file_extension": ".py",
   "mimetype": "text/x-python",
   "name": "python",
   "nbconvert_exporter": "python",
   "pygments_lexer": "ipython3",
   "version": "3.6.9"
  }
 },
 "nbformat": 4,
 "nbformat_minor": 4
}
