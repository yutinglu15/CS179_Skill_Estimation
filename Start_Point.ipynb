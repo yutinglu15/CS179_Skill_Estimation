{
 "cells": [
  {
   "cell_type": "markdown",
   "metadata": {},
   "source": [
    "# Skill estimation using Stan"
   ]
  },
  {
   "cell_type": "markdown",
   "metadata": {},
   "source": [
    "## Potential Ideas \n",
    "\n",
    "    1. Compare the ability of your model to predict the winner of new (unseen) games to simple approaches, such as fraction of games won, number of games played, etc.\n",
    "        - figure out ways to evaluate model performance: \n",
    "            (a) predict the winner of games in validation (Done)\n",
    "            (b) predict the fraction of games won (Done)\n",
    "            (c) predict game result: [? - ?] \n",
    "    \n",
    "    2. Try evaluating how many games are required to accurately predict the players' skill levels / win probability by decreasing the amount of training data available and observing the performance. \n",
    "        - when processing data...may do pruning\n",
    "            (a) vary # most recent games for each player --> look at distribution of date in train and valid first\n",
    "            (b) vary max # opponents for each player to count\n",
    "            (c) vary max # games with each oppo for each player to count \n",
    "    \n",
    "    3. Try evaluating how quickly you can determine a new players' skill by either random game choices or carefully chosen games (matched based on estimated skill level).  You can leave a player out of the inference process entirely, then slowly add their games in and see how quickly you are able to learn their relative position.\n",
    "        - may need to build a new model: \n",
    "            * input with skill levels for old players, games that new player(s) involved.\n",
    "            * output the estimated skill level for new player(s). \n",
    "    \n",
    "    4. Experiment with learning a more complex model, for example taking into account game features (player's selected character) or additional latent scores (such as offensive and defensive skill) along with a correspondingly more elaborate probability of win function.\n",
    "        - Add weights for match date (the more recent one the more importance) -> related to Idea 2. \n",
    "        - # plays\n",
    "        - race\n",
    "        - addon\n",
    "        - tournament-type\n",
    "        * For those new features, may need to do hypothesis test later to verify their significance to the results.  "
   ]
  },
  {
   "cell_type": "code",
   "execution_count": 1,
   "metadata": {},
   "outputs": [],
   "source": [
    "import numpy as np\n",
    "import pystan\n",
    "import matplotlib.pyplot as plt\n",
    "%matplotlib inline\n",
    "\n",
    "import pickle"
   ]
  },
  {
   "cell_type": "markdown",
   "metadata": {},
   "source": [
    "## Start Point: Use sample model"
   ]
  },
  {
   "cell_type": "code",
   "execution_count": 2,
   "metadata": {},
   "outputs": [],
   "source": [
    "skill_model = \"\"\"\n",
    "data {\n",
    "  int<lower=1> N;             # Total number of players\n",
    "  int<lower=1> E;             # number of games\n",
    "  real<lower=0> scale;        # scale value for probability computation\n",
    "  int<lower=0,upper=1> win[E]; # PA wins vs PB\n",
    "  int PA[E];                  # player info between each game\n",
    "  int PB[E];                  # \n",
    "}\n",
    "parameters {\n",
    "  vector [N] skill;           # skill values for each player\n",
    "}\n",
    "\n",
    "model{\n",
    "  for (i in 1:N){ skill[i]~normal(0,3); }\n",
    "  for (i in 1:E){\n",
    "    win[i] ~ bernoulli_logit( (scale)*(skill[PA[i]]-skill[PB[i]]) );\n",
    "  }   # win probability is a logit function of skill difference\n",
    "}\n",
    "\"\"\""
   ]
  },
  {
   "cell_type": "markdown",
   "metadata": {},
   "source": [
    "Now, compile the model.  "
   ]
  },
  {
   "cell_type": "code",
   "execution_count": 3,
   "metadata": {},
   "outputs": [],
   "source": [
    "try:     # load it if already compiled\n",
    "    sm = pickle.load(open('skill_model.pkl', 'rb'))\n",
    "except:  # ow, compile and save compiled model\n",
    "    sm = pystan.StanModel(model_code = skill_model)\n",
    "    with open('skill_model.pkl', 'wb') as f: pickle.dump(sm, f)"
   ]
  },
  {
   "cell_type": "markdown",
   "metadata": {},
   "source": [
    "## Processing data"
   ]
  },
  {
   "cell_type": "code",
   "execution_count": 14,
   "metadata": {},
   "outputs": [],
   "source": [
    "def load_data(dir='data/', pKeep=1.0, nEdge=3, nKeep=5, opt='train'):\n",
    "    with open(dir+opt+'.csv', encoding='utf-8') as f:\n",
    "        lines = f.read().split('\\n')\n",
    "\n",
    "    p = 0\n",
    "    playerid = {}\n",
    "    for i in range(len(lines)):\n",
    "        csv = lines[i].split(',')\n",
    "        if len(csv) != 10: \n",
    "            continue   # parse error or blank line\n",
    "        player0,player1 = csv[1],csv[4]\n",
    "        if player0 not in playerid:\n",
    "            playerid[player0]=p\n",
    "            p+=1\n",
    "        if player1 not in playerid:\n",
    "            playerid[player1]=p\n",
    "            p+=1\n",
    "\n",
    "    \n",
    "    # Sparsifying parameters (discard some training examples):\n",
    "    # pKeep = 1.0   # fraction of edges to consider (immed. throw out 1-p edges)\n",
    "    # nEdge = 3     # try to keep nEdge opponents per player (may be more; asymmetric)\n",
    "    # nKeep = 5     # keep at most nKeep games per opponent pairs (play each other multiple times)\n",
    "\n",
    "    wins = []\n",
    "    playerA, playerB = [], []\n",
    "    nplayers = len(playerid)\n",
    "    nplays = np.zeros( (nplayers,nplayers) )\n",
    "    \n",
    "    for i in np.random.permutation(len(lines)):\n",
    "        csv = lines[i].split(',')\n",
    "        if len(csv) != 10:\n",
    "            continue   # parse error or blank line\n",
    "        a,b = playerid[csv[1]],playerid[csv[4]]\n",
    "        aw,bw = csv[2]=='[winner]',csv[5]=='[winner]'\n",
    "        \n",
    "        if (np.random.rand() < pKeep):\n",
    "            if (nplays[a,b] < nKeep) and ( ((nplays[a,:]>0).sum() < nEdge) or ((nplays[:,b]>0).sum() < nEdge) ):\n",
    "                nplays[a,b] += 1\n",
    "                nplays[b,a]+=1\n",
    "                \n",
    "                playerA.append(a+1)\n",
    "                playerB.append(b+1)\n",
    "                wins.append(1 if aw else 0) \n",
    "\n",
    "    return nplayers,playerA,playerB,wins"
   ]
  },
  {
   "cell_type": "code",
   "execution_count": 15,
   "metadata": {},
   "outputs": [],
   "source": [
    "nplayers,playerA,playerB,wins = load_data()"
   ]
  },
  {
   "cell_type": "code",
   "execution_count": 16,
   "metadata": {},
   "outputs": [
    {
     "name": "stdout",
     "output_type": "stream",
     "text": [
      "summary: \n",
      "# players 999\n",
      "# games 2360\n",
      "player A [74, 267, 219, 305, 444, 778, 28, 308, 58, 202]\n",
      "player B [557, 129, 96, 865, 32, 205, 21, 124, 468, 230]\n",
      "wins [1, 0, 1, 1, 1, 0, 1, 1, 1, 0]\n"
     ]
    }
   ],
   "source": [
    "print('summary: ')\n",
    "print('# players', nplayers)\n",
    "print('# games', len(wins))\n",
    "print('player A', playerA[:10])\n",
    "print('player B', playerB[:10])\n",
    "print('wins', wins[:10])"
   ]
  },
  {
   "cell_type": "markdown",
   "metadata": {},
   "source": [
    "We also need the observed data: number of players and games, which pairs played each game, and who won:"
   ]
  },
  {
   "cell_type": "code",
   "execution_count": 17,
   "metadata": {},
   "outputs": [],
   "source": [
    "skill_data = {\n",
    "    'N': nplayers,\n",
    "    'E': len(wins),\n",
    "    'scale': 0.3,\n",
    "    'win':wins,\n",
    "    'PA': playerA,\n",
    "    'PB': playerB\n",
    "}\n",
    "# Player 1 & 3 played & P1 won; then again; then P2 & P3 (P2 wins), etc."
   ]
  },
  {
   "cell_type": "markdown",
   "metadata": {},
   "source": [
    "Now, we can perform MCMC on the model, and extract the samples:"
   ]
  },
  {
   "cell_type": "code",
   "execution_count": 46,
   "metadata": {},
   "outputs": [],
   "source": [
    "fit = sm.sampling(data=skill_data, iter=1000, chains=4)"
   ]
  },
  {
   "cell_type": "code",
   "execution_count": 47,
   "metadata": {},
   "outputs": [],
   "source": [
    "samples = fit.extract()"
   ]
  },
  {
   "cell_type": "markdown",
   "metadata": {},
   "source": [
    "If we just want the mean estimate for each player's skill level, just take the empirical average over the samples:"
   ]
  },
  {
   "cell_type": "code",
   "execution_count": 48,
   "metadata": {},
   "outputs": [
    {
     "data": {
      "text/plain": [
       "(2000, 999)"
      ]
     },
     "execution_count": 48,
     "metadata": {},
     "output_type": "execute_result"
    }
   ],
   "source": [
    "samples['skill'].shape # 2*100 iterations? 999 players"
   ]
  },
  {
   "cell_type": "code",
   "execution_count": 49,
   "metadata": {},
   "outputs": [
    {
     "data": {
      "text/plain": [
       "array([ 2.18697046e+00,  3.55596758e+00,  2.72643534e+00,  1.99492058e+00,\n",
       "        2.59778400e+00,  2.40427898e+00,  1.18757845e+00,  2.14578952e+00,\n",
       "        1.17740752e+00,  3.00322725e+00, -8.66330962e-01, -6.05065832e-01,\n",
       "        4.88059762e+00,  6.43103659e-01,  2.83320017e+00,  1.95229397e+00,\n",
       "        5.58462702e-01,  1.26517751e-01, -2.32225752e+00,  1.50741414e+00,\n",
       "        5.98334750e-02,  3.99534074e+00,  2.11047327e+00,  4.85160717e+00,\n",
       "       -1.34200116e-01,  1.81219933e+00,  3.61825407e+00,  3.41267021e+00,\n",
       "        1.17302035e+00,  2.85450466e-01,  3.45042827e+00, -8.87518754e-01,\n",
       "       -4.31470505e-01,  1.30744518e-01,  1.72162042e+00, -2.88674313e+00,\n",
       "        2.02074200e+00, -1.74946410e+00,  9.57169233e-01,  2.98042653e+00,\n",
       "        1.07509739e+00,  1.97553379e+00,  2.21051830e+00, -1.27979336e+00,\n",
       "        1.30288473e+00,  2.17901694e-01,  3.43292023e+00,  3.77369655e+00,\n",
       "       -1.62502458e+00,  1.60556089e+00,  2.04283655e+00, -8.65064356e-01,\n",
       "        1.34096572e+00,  1.46112582e+00, -1.25391307e+00, -1.69024714e+00,\n",
       "        2.80171964e+00,  3.73564017e+00,  3.20189963e+00,  2.05343552e+00,\n",
       "        3.70072314e+00,  3.79319576e-01,  3.87489516e+00,  1.08365127e+00,\n",
       "        3.52480614e+00,  2.20495881e+00, -2.49393505e-01,  2.66721478e+00,\n",
       "       -7.85738793e-01,  7.69813480e-01,  3.41795435e+00,  1.58753692e+00,\n",
       "        2.76467203e+00,  3.90437790e+00,  5.25832656e-01, -2.62914645e-01,\n",
       "        2.12632089e+00, -9.08695183e-02,  4.19765109e+00,  1.54865539e+00,\n",
       "        6.72411435e-01,  5.23272895e+00,  3.58924487e+00,  3.48044490e+00,\n",
       "        9.62229978e-01,  2.00287705e+00,  1.48549206e-01,  2.42687159e+00,\n",
       "        2.02630171e+00,  3.90717796e+00,  5.69193182e-01,  9.21944857e-01,\n",
       "       -1.55054281e+00,  1.41132718e+00,  9.78436998e-01, -1.16740733e+00,\n",
       "        2.97501919e+00, -2.85960208e+00, -2.87726230e-01,  9.31325857e-01,\n",
       "        5.23739750e-01, -2.61003233e+00,  1.29622434e+00,  1.80680304e+00,\n",
       "        6.80869931e+00,  3.10070729e+00, -7.39943168e-01,  2.01801349e+00,\n",
       "        6.59696955e-01,  8.42651675e-01, -2.06823118e-01,  4.37575599e+00,\n",
       "        3.06255377e+00,  2.36202004e+00,  8.66925794e-01, -6.94832422e-01,\n",
       "        9.17207959e-01, -2.10985941e+00, -5.64263457e-01, -1.65023406e+00,\n",
       "        1.29584641e-01,  3.84332161e-01,  1.22900336e+00,  4.74777993e-01,\n",
       "        1.16831440e+00,  1.55395393e+00,  1.79205270e+00, -3.13571464e+00,\n",
       "        8.39471664e-01, -2.06848915e+00, -1.39236637e+00, -1.31807638e+00,\n",
       "        3.06439133e+00, -6.93615326e-01,  8.87943210e-01, -1.47106424e+00,\n",
       "        2.02980604e+00,  3.13119614e+00, -8.31631943e-01,  6.92315252e-01,\n",
       "        3.19248389e-01, -9.37028095e-01,  9.77788552e-01,  1.06963678e+00,\n",
       "        7.18630717e-01,  5.17926111e-02,  2.65793082e+00, -2.35318474e-01,\n",
       "        5.85461496e-01, -2.41876589e+00, -5.20482935e-01,  1.20118879e+00,\n",
       "        6.19027386e-01, -2.18667174e+00,  2.66285742e-01,  1.30443565e+00,\n",
       "       -1.43295182e+00,  1.20655689e+00,  1.28095924e+00,  3.67476994e+00,\n",
       "        2.87775795e+00,  1.79682632e-01,  1.04681568e+00, -2.58050106e-01,\n",
       "        3.36111750e-01,  2.60226412e+00,  3.01538260e+00,  5.84224770e-01,\n",
       "        2.93841856e-01,  5.58256568e-01,  1.85958695e+00, -1.40854405e+00,\n",
       "        5.03346486e-01, -5.41946732e-01,  1.42191535e+00,  1.58192804e+00,\n",
       "        1.27852269e+00,  2.15877227e+00, -3.13506401e-01, -3.61398196e-01,\n",
       "       -1.81283028e+00,  4.63663179e+00, -2.92239175e+00,  1.43270756e+00,\n",
       "        1.64335878e+00,  1.69004349e+00,  1.10835206e+00, -7.40936427e-01,\n",
       "       -9.36022008e-02,  1.06756640e+00,  1.14480964e+00, -5.53695438e-01,\n",
       "       -4.41380672e-01,  9.86444150e-01,  1.76372745e+00, -7.34745558e-01,\n",
       "       -2.53707495e+00, -3.15334206e+00,  3.83970086e+00, -1.34594077e+00,\n",
       "       -1.55529850e+00, -3.06375656e-01,  1.29783707e+00,  2.22488531e+00,\n",
       "        2.66819752e+00, -1.06481938e-01, -2.38946505e-01,  1.55920394e+00,\n",
       "       -9.78753204e-01,  6.87767452e-01,  1.01550533e-01,  2.04383299e-01,\n",
       "        3.91312471e-01,  8.22443179e-01,  3.81725769e+00, -3.08702136e-01,\n",
       "        3.98052736e+00,  5.32185367e+00, -4.40646358e-01,  2.51567062e+00,\n",
       "        9.53183565e-01, -4.63443906e-01, -1.32397267e+00,  2.97410769e+00,\n",
       "        7.41764974e-01, -5.18099939e-01, -3.18497969e-01,  1.17279660e+00,\n",
       "       -1.96553295e+00, -4.18943471e-01, -9.88309941e-01, -2.27475234e+00,\n",
       "        2.36092201e+00,  1.70778783e+00,  4.88608565e-01,  2.28001077e+00,\n",
       "        4.34760562e+00,  2.79219739e+00, -1.29028983e+00,  3.23231806e+00,\n",
       "        1.70595029e+00, -7.62338538e-01, -2.36964005e-01,  3.14705878e+00,\n",
       "        9.85032825e-01, -4.60946114e-01,  1.47342958e+00,  4.24019632e-01,\n",
       "       -7.38180597e-01,  3.74590470e+00,  1.51680929e+00,  2.39514775e+00,\n",
       "        1.84876267e+00,  1.77983510e+00,  3.16614670e-01,  9.59326500e-01,\n",
       "        8.59653303e-01, -8.26276966e-01,  1.71270269e+00, -2.23923389e+00,\n",
       "        1.68725047e+00,  3.22902263e+00,  1.81098119e+00, -9.20591037e-01,\n",
       "       -6.08606603e-01, -1.83176624e+00,  6.69429692e-01, -5.52771515e-01,\n",
       "        5.60401563e-02,  1.53581491e+00, -9.61948331e-01, -9.26570238e-01,\n",
       "        1.60183694e+00, -1.52487858e+00, -2.91136440e+00, -7.29827138e-01,\n",
       "       -1.68758578e+00,  2.93446032e-01, -1.53987998e+00,  2.76425519e+00,\n",
       "       -5.25714049e-01,  1.21448537e+00,  2.43674274e+00,  1.28251013e+00,\n",
       "       -4.94597584e-01, -1.16662984e+00, -9.01576459e-01,  1.40133562e+00,\n",
       "       -1.69956352e+00,  2.89409597e+00,  2.13354735e+00,  4.24319540e+00,\n",
       "       -3.76064719e-01, -1.08182278e+00,  3.80742616e+00, -2.55084869e+00,\n",
       "       -7.23394514e-01, -1.59778238e-01, -2.08216726e+00,  1.16844788e+00,\n",
       "        1.81413547e+00, -6.65518842e-02,  1.19659025e+00,  1.47810367e-01,\n",
       "        4.62752388e+00,  1.27148633e+00, -2.53918517e+00,  3.48955140e-01,\n",
       "        2.73021699e-01,  4.35378829e-01, -4.18483890e+00, -1.42193578e+00,\n",
       "        2.63053026e+00, -9.49394524e-01,  3.35841847e-01,  3.51302225e+00,\n",
       "        4.80533467e+00, -1.57856927e-01,  4.71208517e-01, -5.56119363e-01,\n",
       "        1.75239149e+00, -2.84499102e+00,  3.35446060e+00, -8.59099212e-01,\n",
       "       -8.56935958e-01,  8.44764538e-01, -4.75038321e-01,  2.96863328e+00,\n",
       "       -1.46755257e-01, -3.08041350e-01, -6.98969253e-01, -4.04685060e-01,\n",
       "        1.60107730e+00, -1.18657759e+00,  1.62515488e+00,  2.58202323e+00,\n",
       "        3.13477153e+00, -2.94028818e-01,  3.79983830e+00,  1.05222343e+00,\n",
       "       -3.52529231e+00, -8.69537998e-01, -2.22769122e-01,  1.60886663e+00,\n",
       "        5.31883586e-01, -5.64058756e-01, -1.53186681e+00, -1.50453406e+00,\n",
       "       -5.52797174e-01, -8.58043971e-01, -8.40780497e-02, -4.32919333e-01,\n",
       "       -8.78392943e-01,  1.54195210e+00, -5.34930050e-01, -2.45076404e+00,\n",
       "       -9.64711869e-01,  4.78970881e-01,  6.16028475e-01, -1.53004893e+00,\n",
       "        3.61229205e+00, -1.09827559e+00, -8.30902802e-02,  8.61891691e-01,\n",
       "        1.87063674e+00, -3.46654179e-01,  2.26893891e+00, -1.12533159e+00,\n",
       "        9.85632520e-01, -2.21358055e+00,  3.05882054e+00,  9.33900957e-01,\n",
       "        1.05701353e+00, -1.81371192e+00,  1.81899064e+00, -2.11337801e+00,\n",
       "       -1.27357758e+00, -2.98626457e-02, -1.57802123e+00,  1.75719646e+00,\n",
       "       -9.60261868e-01,  1.52196176e+00,  1.62053070e+00,  1.08329638e+00,\n",
       "        1.69294847e+00, -2.93075686e-01,  1.62839797e+00,  4.59017731e-01,\n",
       "       -5.38172504e-01, -7.10669499e-01, -9.39274030e-01,  5.43041221e-01,\n",
       "        3.03365058e-01, -1.10122657e+00, -1.89243410e+00,  7.34449028e-01,\n",
       "        2.55637101e-01,  1.57110406e+00,  5.58655461e-01,  1.96876420e-01,\n",
       "       -8.11756214e-01, -5.77115071e-01,  1.00012109e+00, -2.25476707e-01,\n",
       "       -8.29732776e-01, -2.10134062e+00,  2.97277342e+00, -8.67624312e-01,\n",
       "       -1.16525608e+00,  2.04843638e+00, -2.16694547e-01,  1.26250423e+00,\n",
       "        2.15833259e+00, -5.59669334e-01, -2.06367825e+00,  1.32774853e+00,\n",
       "        5.18185428e-01, -1.90724607e+00, -7.21597735e-01,  2.75298471e-01,\n",
       "        4.78255778e-01,  1.17764374e+00,  1.25731405e+00,  2.15857969e+00,\n",
       "        2.12011902e-01, -2.35886757e+00,  1.66535272e+00,  1.86033257e+00,\n",
       "        1.56211097e+00,  2.59969320e+00, -3.69371894e+00,  1.25976190e+00,\n",
       "        9.83651837e-01,  1.19187039e+00,  2.21266665e+00,  2.90272635e+00,\n",
       "        2.29462359e+00,  9.02430073e-01,  8.11916926e-01, -5.01477443e-01,\n",
       "       -9.53219748e-01, -1.07330933e-01,  2.38196766e+00,  1.32108806e+00,\n",
       "        7.08351621e-01,  1.04250252e+00,  1.11301070e+00,  1.54908453e+00,\n",
       "        3.14014430e+00, -1.11074721e+00, -1.28432261e+00,  2.23971905e-01,\n",
       "       -3.18314372e+00,  4.92350275e-01,  5.60527506e-01, -1.26611160e+00,\n",
       "       -2.03499711e+00, -7.13899636e-01, -8.16243359e-02,  2.41751990e+00,\n",
       "       -2.00492876e+00,  9.43127497e-01, -2.35322464e+00, -1.05089541e+00,\n",
       "       -1.91771431e+00,  8.95362881e-01, -2.34878141e+00,  1.97610116e-02,\n",
       "       -9.30564322e-01, -1.38701087e+00,  1.96893561e+00, -8.03028152e-01,\n",
       "        3.84462130e+00, -2.63892639e+00, -6.14649521e-01, -2.98796189e-01,\n",
       "       -4.48525399e+00, -1.42205341e+00, -1.56850506e-01, -6.98049638e-01,\n",
       "       -4.37224060e-01, -1.09807942e+00, -2.34697043e+00, -1.32515961e+00,\n",
       "        1.20864094e+00, -2.05794871e+00, -2.60564631e+00, -2.28182992e+00,\n",
       "        6.93264377e-01, -3.64394103e+00, -2.33168101e-03,  8.68039569e-01,\n",
       "        2.48682982e-01,  1.01202684e+00, -2.66839017e+00,  8.21752843e-01,\n",
       "       -6.84674724e-01, -2.12157070e+00,  1.95964364e+00, -2.50971629e+00,\n",
       "        1.02983792e+00, -1.04774927e+00, -2.41929228e+00, -7.55404799e-01,\n",
       "        2.57906474e+00, -4.20093512e+00, -3.43372645e-01, -1.92734886e+00,\n",
       "        1.26561021e+00,  1.14881296e+00, -9.83965935e-01,  7.66175795e-01,\n",
       "       -1.01862481e+00, -6.73597246e-01, -1.15615495e+00, -2.90313459e+00,\n",
       "        2.03547781e+00, -2.59515372e+00, -9.40238699e-01, -1.37261144e+00,\n",
       "        3.17081084e+00, -1.13892786e+00,  1.84586962e+00,  4.28635834e-01,\n",
       "       -4.86079843e-01, -2.45703893e+00,  1.64578851e+00, -3.65467771e+00,\n",
       "       -1.65781182e-01,  1.26664874e+00, -3.07485889e+00, -1.36758968e-01,\n",
       "       -2.06893013e+00,  5.79102408e-01,  3.48033031e-01, -2.48397702e+00,\n",
       "       -4.68438937e+00, -6.20872257e-01, -1.52432798e-01, -7.40673632e-01,\n",
       "       -1.36518468e+00,  1.08146471e+00,  3.22292069e+00, -2.75483234e+00,\n",
       "        2.10749706e+00,  5.71732816e-01, -2.39640279e+00, -2.44502459e+00,\n",
       "       -2.35859976e+00, -2.82144664e-02, -1.70000357e+00, -1.35109771e+00,\n",
       "        1.44873378e+00,  7.55808530e-01, -9.15877115e-01, -1.12668616e+00,\n",
       "       -1.23633148e-01, -3.45150153e+00, -2.37733155e+00, -6.27981578e-01,\n",
       "       -2.86087970e+00, -2.38403247e+00, -1.12293529e+00,  1.22989708e+00,\n",
       "        1.07052303e+00, -3.69942174e-01, -1.25802913e+00, -1.53148483e+00,\n",
       "       -2.59077944e+00, -2.19701800e+00, -3.44605254e-01,  1.72519395e+00,\n",
       "        6.16958610e-01, -2.40770970e-01, -2.01187972e+00,  4.10208596e-02,\n",
       "        1.06065624e+00, -8.32000189e-01, -2.47658173e+00,  3.39004047e+00,\n",
       "       -5.13664619e-01, -2.16637304e+00,  1.30858950e+00, -2.25604986e-01,\n",
       "        1.03106935e+00, -2.07401080e+00,  5.08616082e-02, -8.88796118e-01,\n",
       "       -6.57764024e-01, -1.46620715e-01,  2.60027339e+00, -8.65975626e-01,\n",
       "       -2.46361625e+00,  1.18311969e+00,  1.64762960e-02, -4.61523029e-01,\n",
       "       -4.01296554e+00,  7.43326112e-01,  8.30001335e-01, -2.90355348e-01,\n",
       "       -2.38857468e+00, -1.13232328e-01,  7.30705230e-01,  2.23360652e+00,\n",
       "        2.23334174e+00, -1.31311377e+00, -1.98623067e+00, -2.48501608e+00,\n",
       "        1.39212051e+00, -6.98763671e-01, -1.66833445e+00, -6.47997681e-01,\n",
       "       -1.73437016e+00, -2.28996023e+00, -1.23200459e+00, -1.48696123e+00,\n",
       "        8.09387924e-01,  4.70802795e-01, -3.03006374e+00, -6.85933644e-01,\n",
       "        2.23772830e+00,  2.44325882e+00, -2.26666523e+00, -1.29836247e+00,\n",
       "       -1.70805428e-02,  1.47763985e+00,  3.11104408e+00,  1.22858718e+00,\n",
       "       -3.24896616e-01, -2.88194282e-01, -2.82978648e+00, -2.84200034e+00,\n",
       "        2.10299246e-01, -1.29270563e+00, -1.73091236e+00,  2.28896005e-01,\n",
       "        1.04668812e+00,  8.50951014e-01, -7.40298354e-01, -9.65165423e-01,\n",
       "       -2.70662188e-01,  1.57624266e+00,  1.17631841e+00, -3.63164148e-01,\n",
       "       -2.58018578e-01, -1.80444876e+00,  3.28429962e+00,  1.07524698e+00,\n",
       "        2.60486680e-01, -3.82916648e+00, -2.70051323e+00,  1.14731781e+00,\n",
       "       -6.70905383e-01, -2.47262925e+00, -1.16010127e-01, -1.65108447e+00,\n",
       "        9.88179131e-01, -3.36242572e-01, -2.37709324e+00, -2.50825141e+00,\n",
       "       -1.04838959e+00,  1.26275186e+00, -1.13669230e+00, -1.25944130e+00,\n",
       "       -2.24424666e+00, -3.92847307e-01, -9.33513426e-01,  1.06464276e+00,\n",
       "       -3.43037895e+00, -1.20481077e-01, -1.32901665e+00, -1.10289349e+00,\n",
       "        2.00921620e+00,  1.31526573e+00, -2.13450044e+00, -9.92240922e-01,\n",
       "        1.31309603e+00, -1.65331017e+00,  4.19098290e-01,  7.41560086e-01,\n",
       "       -1.43641009e+00, -2.75075219e-01, -4.66204139e-01, -1.93987980e+00,\n",
       "        8.71473173e-01,  1.34719502e+00, -4.29158730e-01,  7.10066137e-01,\n",
       "       -1.48426595e+00, -1.05334279e+00, -2.28399494e+00, -4.21999967e+00,\n",
       "        2.84849029e+00,  7.03979978e-01,  1.79710095e+00,  1.36321057e+00,\n",
       "       -1.26717500e+00, -2.52733597e+00,  2.94106880e+00, -1.75426000e+00,\n",
       "       -2.42901126e-01, -1.06620013e+00,  7.21785055e-01,  2.37825775e-01,\n",
       "        1.71851015e+00, -3.54700030e-01,  1.22218842e+00, -1.32459150e+00,\n",
       "       -2.39080073e+00, -1.82451704e+00,  3.48992525e+00, -5.37406031e-01,\n",
       "        2.03347895e+00, -1.33630474e+00, -5.13825228e-01, -2.68299961e+00,\n",
       "       -8.01310326e-01, -2.49119331e+00, -1.66374774e+00, -9.65301170e-01,\n",
       "        1.55738081e-01, -9.90846464e-02, -2.72220403e+00, -8.79227641e-01,\n",
       "       -2.38430985e-01,  2.90256285e+00, -7.11938824e-01,  2.64133407e+00,\n",
       "        9.43796908e-01, -8.93652407e-01,  2.13743281e+00, -1.28867376e+00,\n",
       "       -2.05803137e+00,  1.96717343e+00, -2.32024780e+00, -1.13247347e+00,\n",
       "       -8.37833531e-01,  2.76812772e+00,  6.73001072e-02, -3.86924251e+00,\n",
       "       -2.36566037e+00, -2.34554704e+00, -2.88466598e-01, -8.66808564e-01,\n",
       "       -2.60270766e-01, -2.08243908e+00,  4.97996587e-01,  7.83362520e-01,\n",
       "       -2.96946208e+00, -5.95067282e-01,  1.09316180e+00, -5.69064439e-01,\n",
       "       -7.61495077e-01, -1.83734636e+00, -6.17823418e-01, -1.86468942e+00,\n",
       "        6.45434102e-01,  1.74606469e+00, -6.91231888e-01, -1.37621135e+00,\n",
       "       -7.81331049e-01,  1.90831119e+00,  2.46793111e+00, -1.39623216e-01,\n",
       "       -2.44419423e+00, -1.35785124e+00, -4.20038409e-01, -9.17324235e-01,\n",
       "       -2.41196201e+00,  1.93620816e+00,  1.02980186e+00,  1.79254192e-01,\n",
       "        1.51537478e-01, -1.06917553e+00, -1.27538732e+00, -2.76750959e+00,\n",
       "       -4.47893131e-01, -2.66587569e+00,  1.54151931e+00,  2.10355910e+00,\n",
       "       -8.96879600e-01, -6.61574680e-01, -5.73418086e-01, -2.20927911e+00,\n",
       "       -2.54443808e+00,  7.91676295e-01,  2.28687128e+00,  9.54925003e-01,\n",
       "       -9.32175746e-01,  1.05803442e+00,  2.81509236e+00, -1.25503216e+00,\n",
       "        5.75721189e-01, -8.70490724e-01, -9.62178364e-01,  1.56229054e+00,\n",
       "       -2.32403566e-01, -9.83872265e-01, -1.29434109e+00, -2.51168294e+00,\n",
       "        7.88825528e-01,  2.02694630e+00, -1.02496985e+00,  1.34788339e+00,\n",
       "       -3.01843721e+00,  2.54335843e+00,  1.02023557e-01,  9.98385063e-01,\n",
       "       -2.10215294e+00,  1.99733868e+00, -3.00300810e+00, -2.20157378e+00,\n",
       "       -7.50681167e-01, -1.23248056e+00,  3.88884155e-01, -2.62361657e-01,\n",
       "       -7.93800604e-01, -1.41746637e+00, -1.45504241e+00, -2.53954686e+00,\n",
       "       -2.86301821e-02, -1.02581579e+00, -1.99570894e+00,  7.63197560e-01,\n",
       "       -1.06428151e+00, -6.07048576e-01, -2.11679603e+00, -5.35528746e-01,\n",
       "       -4.48407314e-01, -2.42549875e+00, -1.24746269e+00, -7.36863351e-01,\n",
       "       -4.63538608e-01,  9.01668337e-01, -2.40094737e-01, -1.47420981e+00,\n",
       "       -2.70956106e-01, -1.25926103e+00, -2.46764010e+00, -2.58181047e+00,\n",
       "        2.04125538e+00, -2.96172318e+00, -2.28712118e+00, -2.40712697e+00,\n",
       "       -2.04211405e+00, -8.21699565e-01,  1.11118881e+00, -2.94141897e+00,\n",
       "       -1.38280238e+00, -1.12320954e+00, -6.24636995e-02, -7.87761659e-01,\n",
       "       -2.54058080e+00,  6.92156488e-01,  7.55115707e-01, -2.44059554e+00,\n",
       "       -3.12353194e+00, -1.69535215e+00,  1.70490197e+00, -3.18848419e+00,\n",
       "        6.56602667e-01,  2.77258362e+00,  1.14833487e+00, -7.99230172e-01,\n",
       "        1.80573650e+00, -6.17120999e-01, -2.08571350e+00, -6.53737500e-01,\n",
       "       -1.62970167e+00,  8.60170489e-01, -2.71841706e+00, -2.61425070e+00,\n",
       "        1.06531872e+00, -2.33191879e+00, -2.77238746e+00, -2.06689878e+00,\n",
       "       -1.68043149e-01, -2.67517837e+00, -1.36645489e-01, -2.25103590e+00,\n",
       "        7.06805935e-01, -9.55603087e-01, -1.85639435e+00, -2.67440389e+00,\n",
       "        8.17963967e-01, -2.32386664e+00,  8.85755964e-01, -1.31943876e+00,\n",
       "       -1.71971729e-01, -1.70097040e+00, -3.32693828e-01, -7.43627034e-01,\n",
       "       -1.58391365e+00, -3.03177399e+00, -2.91956503e+00, -2.24259916e+00,\n",
       "       -2.25073451e+00,  2.70388515e+00,  1.50114586e+00, -2.85825645e+00,\n",
       "        1.75954798e+00,  7.80475248e-01,  1.26144232e+00,  3.26390516e+00,\n",
       "       -2.20785090e+00, -1.50175376e+00, -1.97404120e+00,  7.89498448e-01,\n",
       "        7.34025485e-01, -7.43961050e-01, -2.33608350e+00,  1.57896884e-01,\n",
       "       -9.54731889e-01, -9.11422878e-01, -3.00198117e+00, -2.63663831e+00,\n",
       "       -2.11960860e+00, -2.06425310e-01, -3.99496106e-01,  2.49777954e-01,\n",
       "       -2.54048147e+00,  8.44306672e-01,  8.26517080e-01, -2.31778058e+00,\n",
       "        1.51818944e-01,  8.11819664e-01,  2.48414372e+00,  1.05543591e+00,\n",
       "       -1.20530896e+00, -5.07040055e-01, -7.02946022e-01,  1.12952997e+00,\n",
       "       -1.22045898e-01, -8.25269690e-01,  1.13779405e+00, -1.20987313e+00,\n",
       "       -4.32788411e-01, -2.10470664e+00, -1.03947705e+00, -1.77000251e+00,\n",
       "        5.70439442e-01, -2.49811150e+00,  3.72211849e-01, -5.21337867e-01,\n",
       "       -1.17393743e+00,  4.44089573e-02, -8.52755169e-01, -9.20454250e-01,\n",
       "        1.30022841e+00,  8.26032487e-01, -8.79473171e-01, -3.03043578e+00,\n",
       "       -2.86107355e+00, -1.32276524e+00, -5.81949757e-02, -4.34879105e-01,\n",
       "        1.10040193e+00, -2.97596461e+00, -6.26644966e-01, -2.32901475e+00,\n",
       "       -8.71979890e-01, -3.09881973e-01,  1.47108491e+00, -1.03757555e+00,\n",
       "       -2.36094659e+00,  1.27647019e-01, -9.81100616e-01, -2.84838668e+00,\n",
       "        1.31459720e+00, -4.09102725e-01, -1.06285485e+00, -2.30720924e+00,\n",
       "       -9.52832642e-01, -7.93395851e-01, -2.00021973e+00, -1.33532454e+00,\n",
       "        2.75962135e+00,  1.92042565e+00, -2.19653007e+00,  9.35790258e-01,\n",
       "       -3.28260766e+00, -3.98674738e-01,  6.29461118e-01, -1.11387396e+00,\n",
       "       -9.01144475e-01,  1.48412681e+00, -3.60751459e+00,  4.16238045e-01,\n",
       "       -2.85910439e+00,  7.26855845e-01, -1.08430493e+00, -5.98016502e-01,\n",
       "        7.75224340e-01,  1.05678654e+00,  4.27516054e-01, -2.03720957e+00,\n",
       "        8.46721345e-02,  5.86245723e-01, -2.82610081e+00])"
      ]
     },
     "execution_count": 49,
     "metadata": {},
     "output_type": "execute_result"
    }
   ],
   "source": [
    "samples['skill'].mean(0)"
   ]
  },
  {
   "cell_type": "markdown",
   "metadata": {},
   "source": [
    "If we want to predict which player will win, we might use a direct estimator of that quantity based on the sample values:"
   ]
  },
  {
   "cell_type": "code",
   "execution_count": 50,
   "metadata": {},
   "outputs": [
    {
     "name": "stdout",
     "output_type": "stream",
     "text": [
      "0.417803356131792\n"
     ]
    }
   ],
   "source": [
    "# Player 0 vs Player 1 prediction:\n",
    "def logit(z): return 1./(1.+np.exp(-z))\n",
    "\n",
    "# Use our model's win probability function (logistic of scaled difference)\n",
    "#  using the predicted skill difference for each sample:\n",
    "prob = logit( skill_data['scale']*(samples['skill'][:,0]-samples['skill'][:,1]) ).mean()\n",
    "\n",
    "print(prob)"
   ]
  },
  {
   "cell_type": "markdown",
   "metadata": {},
   "source": [
    "Remember to save the prediction!"
   ]
  },
  {
   "cell_type": "code",
   "execution_count": 51,
   "metadata": {},
   "outputs": [],
   "source": [
    "with open('skill_hat.pkl', 'wb') as f: \n",
    "    pickle.dump(samples['skill'], f)"
   ]
  },
  {
   "cell_type": "markdown",
   "metadata": {},
   "source": [
    "## Sample Model Evaluation"
   ]
  },
  {
   "cell_type": "code",
   "execution_count": 52,
   "metadata": {},
   "outputs": [],
   "source": [
    "skill_hat = pickle.load(open('skill_hat.pkl', 'rb'))"
   ]
  },
  {
   "cell_type": "code",
   "execution_count": 53,
   "metadata": {},
   "outputs": [],
   "source": [
    "def load_valid_data(dir='data/', pKeep=1.0, nEdge=3, nKeep=5, opt='valid'):\n",
    "    with open(dir+opt+'.csv', encoding='utf-8') as f:\n",
    "        lines = f.read().split('\\n')\n",
    "\n",
    "    p = 0\n",
    "    playerid = {}\n",
    "    for i in range(len(lines)):\n",
    "        csv = lines[i].split(',')\n",
    "        if len(csv) != 10: \n",
    "            continue   # parse error or blank line\n",
    "        player0,player1 = csv[1],csv[4]\n",
    "        if player0 not in playerid:\n",
    "            playerid[player0]=p\n",
    "            p+=1\n",
    "        if player1 not in playerid:\n",
    "            playerid[player1]=p\n",
    "            p+=1\n",
    "\n",
    "    nplayers = len(playerid)\n",
    "    playername = ['']*nplayers\n",
    "    for player in playerid:\n",
    "        playername[ playerid[player] ]=player  # id to name lookup\n",
    "\n",
    "\n",
    "  # Sparsifying parameters (discard some training examples):\n",
    "  # pKeep = 1.0   # fraction of edges to consider (immed. throw out 1-p edges)\n",
    "  # nEdge = 3     # try to keep nEdge opponents per player (may be more; asymmetric)\n",
    "  # nKeep = 5     # keep at most nKeep games per opponent pairs (play each other multiple times)\n",
    "    \n",
    "    games = []\n",
    "    nplays, nwins = np.zeros( (nplayers,nplayers) ), np.zeros( (nplayers,nplayers) )\n",
    "    for i in range(len(lines)):\n",
    "        csv = lines[i].split(',')\n",
    "        if len(csv) != 10:\n",
    "            continue   # parse error or blank line\n",
    "        a,b = playerid[csv[1]],playerid[csv[4]]\n",
    "        aw,bw = csv[2]=='[winner]',csv[5]=='[winner]'\n",
    "        if (np.random.rand() < pKeep):\n",
    "            if (nplays[a,b] < nKeep) and ( ((nplays[a,:]>0).sum() < nEdge) or ((nplays[:,b]>0).sum() < nEdge) ):\n",
    "                if a != b:\n",
    "                    games.append((a, b, aw*2-1))\n",
    "                nplays[a,b] += 1\n",
    "                nplays[b,a]+=1\n",
    "                nwins[a,b] += aw\n",
    "                nwins[b,a] += bw\n",
    "    \n",
    "    return nplayers, nplays, nwins, games\n"
   ]
  },
  {
   "cell_type": "code",
   "execution_count": 54,
   "metadata": {},
   "outputs": [],
   "source": [
    "nplayers_val, nplays_val, nwins_val, games_val = load_valid_data()"
   ]
  },
  {
   "cell_type": "code",
   "execution_count": 55,
   "metadata": {},
   "outputs": [
    {
     "name": "stdout",
     "output_type": "stream",
     "text": [
      "summary:  999\n",
      "(999, 999) 9536.0\n",
      "(999, 999) 4785.0\n",
      "games 4768\n"
     ]
    }
   ],
   "source": [
    "print('summary: ', nplayers_val)\n",
    "print(nplays_val.shape, nplays_val.sum())\n",
    "print(nwins_val.shape, nwins_val.sum())\n",
    "print('games', len(games_val))"
   ]
  },
  {
   "cell_type": "code",
   "execution_count": 62,
   "metadata": {},
   "outputs": [],
   "source": [
    "def logit(z): return 1./(1.+np.exp(-z))\n",
    "\n",
    "def prediction_loss(skill, nplayers, nplays, nwins, games):\n",
    "    \n",
    "    loss = 0.\n",
    "    binary_loss = 0.\n",
    "    for i in range(nplayers):\n",
    "        for j in range(i+1, nplayers):\n",
    "            if nplays[i, j] == 0:\n",
    "                continue\n",
    "            prob = nwins[i,j] / nplays[i,j]\n",
    "            prob_hat = logit( skill_data['scale']*(samples['skill'][:,i]-samples['skill'][:,j]) ).mean()\n",
    "            loss += np.abs(prob_hat - prob)\n",
    "            binary_loss += np.logical_xor(prob_hat >= 0.5, prob >= 0.5)\n",
    "    \n",
    "    loss /= (nplays > 0).sum()/2\n",
    "    binary_loss /= (nplays > 0).sum()/2\n",
    "    \n",
    "    return loss, binary_loss\n"
   ]
  },
  {
   "cell_type": "code",
   "execution_count": 63,
   "metadata": {},
   "outputs": [],
   "source": [
    "loss, binary_loss = prediction_loss(skill_hat, nplayers_val, nplays_val, nwins_val, games_val)"
   ]
  },
  {
   "cell_type": "code",
   "execution_count": 64,
   "metadata": {},
   "outputs": [
    {
     "data": {
      "text/plain": [
       "(0.43888237613883896, 0.43202416918429004)"
      ]
     },
     "execution_count": 64,
     "metadata": {},
     "output_type": "execute_result"
    }
   ],
   "source": [
    "loss, binary_loss"
   ]
  },
  {
   "cell_type": "markdown",
   "metadata": {},
   "source": [
    "## Feature / Data reanalysis\n",
    "\n",
    "Do that in a seperate notebook!"
   ]
  },
  {
   "cell_type": "markdown",
   "metadata": {},
   "source": [
    "## New Model\n",
    "\n",
    "Do that in a seperate notebook!"
   ]
  }
 ],
 "metadata": {
  "kernelspec": {
   "display_name": "Python 3",
   "language": "python",
   "name": "python3"
  },
  "language_info": {
   "codemirror_mode": {
    "name": "ipython",
    "version": 3
   },
   "file_extension": ".py",
   "mimetype": "text/x-python",
   "name": "python",
   "nbconvert_exporter": "python",
   "pygments_lexer": "ipython3",
   "version": "3.7.4"
  }
 },
 "nbformat": 4,
 "nbformat_minor": 2
}
