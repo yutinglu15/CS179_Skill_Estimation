{
 "cells": [
  {
   "cell_type": "markdown",
   "metadata": {},
   "source": [
    "# Skill estimation using Stan"
   ]
  },
  {
   "cell_type": "markdown",
   "metadata": {},
   "source": [
    "## Potential Ideas \n",
    "\n",
    "    1. Compare the ability of your model to predict the winner of new (unseen) games to simple approaches, such as fraction of games won, number of games played, etc.\n",
    "        - figure out ways to evaluate model performance: \n",
    "            (a) predict the winner of games in validation (Done)\n",
    "            (b) predict the fraction of games won (Done)\n",
    "            (c) predict game result: [? - ?] \n",
    "    \n",
    "    2. Try evaluating how many games are required to accurately predict the players' skill levels / win probability by decreasing the amount of training data available and observing the performance. \n",
    "        - when processing data...may do pruning\n",
    "            (a) vary # most recent games for each player --> look at distribution of date in train and valid first\n",
    "            (b) vary max # opponents for each player to count\n",
    "            (c) vary max # games with each oppo for each player to count \n",
    "    \n",
    "    3. Try evaluating how quickly you can determine a new players' skill by either random game choices or carefully chosen games (matched based on estimated skill level).  You can leave a player out of the inference process entirely, then slowly add their games in and see how quickly you are able to learn their relative position.\n",
    "        - may need to build a new model: \n",
    "            * input with skill levels for old players, games that new player(s) involved.\n",
    "            * output the estimated skill level for new player(s). \n",
    "    \n",
    "    4. Experiment with learning a more complex model, for example taking into account game features (player's selected character) or additional latent scores (such as offensive and defensive skill) along with a correspondingly more elaborate probability of win function.\n",
    "        - Add weights for match date (the more recent one the more importance) -> related to Idea 2. \n",
    "        - # plays\n",
    "        - race\n",
    "        - addon\n",
    "        - tournament-type\n",
    "        * For those new features, may need to do hypothesis test later to verify their significance to the results.  "
   ]
  },
  {
   "cell_type": "code",
   "execution_count": 1,
   "metadata": {},
   "outputs": [],
   "source": [
    "import numpy as np\n",
    "import pystan\n",
    "import matplotlib.pyplot as plt\n",
    "%matplotlib inline\n",
    "\n",
    "import pickle"
   ]
  },
  {
   "cell_type": "markdown",
   "metadata": {},
   "source": [
    "## Start Point: Use sample model"
   ]
  },
  {
   "cell_type": "code",
   "execution_count": 2,
   "metadata": {},
   "outputs": [],
   "source": [
    "skill_model = \"\"\"\n",
    "data {\n",
    "  int<lower=1> N;             # Total number of players\n",
    "  int<lower=1> E;             # number of games\n",
    "  real<lower=0> scale;        # scale value for probability computation\n",
    "  int<lower=0,upper=1> win[E]; # PA wins vs PB\n",
    "  int PA[E];                  # player info between each game\n",
    "  int PB[E];                  # \n",
    "}\n",
    "parameters {\n",
    "  vector [N] skill;           # skill values for each player\n",
    "}\n",
    "\n",
    "model{\n",
    "  for (i in 1:N){ skill[i]~normal(0,3); }\n",
    "  for (i in 1:E){\n",
    "    win[i] ~ bernoulli_logit( (scale)*(skill[PA[i]]-skill[PB[i]]) );\n",
    "  }   # win probability is a logit function of skill difference\n",
    "}\n",
    "\"\"\""
   ]
  },
  {
   "cell_type": "markdown",
   "metadata": {},
   "source": [
    "Now, compile the model.  "
   ]
  },
  {
   "cell_type": "code",
   "execution_count": 3,
   "metadata": {},
   "outputs": [],
   "source": [
    "try:     # load it if already compiled\n",
    "    sm = pickle.load(open('skill_model.pkl', 'rb'))\n",
    "except:  # ow, compile and save compiled model\n",
    "    sm = pystan.StanModel(model_code = skill_model)\n",
    "    with open('skill_model.pkl', 'wb') as f: pickle.dump(sm, f)"
   ]
  },
  {
   "cell_type": "markdown",
   "metadata": {},
   "source": [
    "## Processing data"
   ]
  },
  {
   "cell_type": "code",
   "execution_count": 4,
   "metadata": {},
   "outputs": [],
   "source": [
    "def load_data(dir='data/', pKeep=1.0, nEdge=3, nKeep=5, opt='train'):\n",
    "    with open(dir+opt+'.csv', encoding='utf-8') as f:\n",
    "        lines = f.read().split('\\n')\n",
    "\n",
    "    p = 0\n",
    "    playerid = {}\n",
    "    for i in range(len(lines)):\n",
    "        csv = lines[i].split(',')\n",
    "        if len(csv) != 10: \n",
    "            continue   # parse error or blank line\n",
    "        player0,player1 = csv[1],csv[4]\n",
    "        if player0 not in playerid:\n",
    "            playerid[player0]=p\n",
    "            p+=1\n",
    "        if player1 not in playerid:\n",
    "            playerid[player1]=p\n",
    "            p+=1\n",
    "\n",
    "    \n",
    "    # Sparsifying parameters (discard some training examples):\n",
    "    # pKeep = 1.0   # fraction of edges to consider (immed. throw out 1-p edges)\n",
    "    # nEdge = 3     # try to keep nEdge opponents per player (may be more; asymmetric)\n",
    "    # nKeep = 5     # keep at most nKeep games per opponent pairs (play each other multiple times)\n",
    "\n",
    "    wins = []\n",
    "    playerA, playerB = [], []\n",
    "    nplayers = len(playerid)\n",
    "    nplays = np.zeros( (nplayers,nplayers) )\n",
    "    \n",
    "#     for i in np.random.permutation(len(lines)):\n",
    "    for i in range(len(lines)):\n",
    "        csv = lines[i].split(',')\n",
    "        if len(csv) != 10:\n",
    "            continue   # parse error or blank line\n",
    "        a,b = playerid[csv[1]],playerid[csv[4]]\n",
    "        aw,bw = csv[2]=='[winner]',csv[5]=='[winner]'\n",
    "        \n",
    "        if (np.random.rand() < pKeep):\n",
    "            if (nplays[a,b] < nKeep) and ( ((nplays[a,:]>0).sum() < nEdge) or ((nplays[:,b]>0).sum() < nEdge) ):\n",
    "                nplays[a,b] += 1\n",
    "                nplays[b,a]+=1\n",
    "                \n",
    "                playerA.append(a+1)\n",
    "                playerB.append(b+1)\n",
    "                wins.append(1 if aw else 0) \n",
    "\n",
    "    return nplayers,playerA,playerB,wins"
   ]
  },
  {
   "cell_type": "code",
   "execution_count": 5,
   "metadata": {},
   "outputs": [],
   "source": [
    "nplayers,playerA,playerB,wins = load_data()"
   ]
  },
  {
   "cell_type": "code",
   "execution_count": 6,
   "metadata": {},
   "outputs": [
    {
     "name": "stdout",
     "output_type": "stream",
     "text": [
      "summary: \n",
      "# players 999\n",
      "# games 4677\n",
      "player A [1, 1, 1, 1, 1, 1, 1, 1, 1, 1]\n",
      "player B [2, 3, 4, 5, 6, 7, 8, 9, 10, 9]\n",
      "wins [0, 0, 0, 0, 1, 1, 1, 0, 0, 1]\n"
     ]
    }
   ],
   "source": [
    "print('summary: ')\n",
    "print('# players', nplayers)\n",
    "print('# games', len(wins))\n",
    "print('player A', playerA[:10])\n",
    "print('player B', playerB[:10])\n",
    "print('wins', wins[:10])"
   ]
  },
  {
   "cell_type": "markdown",
   "metadata": {},
   "source": [
    "We also need the observed data: number of players and games, which pairs played each game, and who won:"
   ]
  },
  {
   "cell_type": "code",
   "execution_count": 7,
   "metadata": {},
   "outputs": [],
   "source": [
    "skill_data = {\n",
    "    'N': nplayers,\n",
    "    'E': len(wins),\n",
    "    'scale': 0.3,\n",
    "    'win':wins,\n",
    "    'PA': playerA,\n",
    "    'PB': playerB\n",
    "}\n",
    "# Player 1 & 3 played & P1 won; then again; then P2 & P3 (P2 wins), etc."
   ]
  },
  {
   "cell_type": "markdown",
   "metadata": {},
   "source": [
    "Now, we can perform MCMC on the model, and extract the samples:"
   ]
  },
  {
   "cell_type": "code",
   "execution_count": 69,
   "metadata": {},
   "outputs": [],
   "source": [
    "fit = sm.sampling(data=skill_data, iter=1000, chains=4)"
   ]
  },
  {
   "cell_type": "code",
   "execution_count": 70,
   "metadata": {},
   "outputs": [],
   "source": [
    "samples = fit.extract()"
   ]
  },
  {
   "cell_type": "markdown",
   "metadata": {},
   "source": [
    "If we just want the mean estimate for each player's skill level, just take the empirical average over the samples:"
   ]
  },
  {
   "cell_type": "code",
   "execution_count": 71,
   "metadata": {},
   "outputs": [
    {
     "data": {
      "text/plain": [
       "(2000, 999)"
      ]
     },
     "execution_count": 71,
     "metadata": {},
     "output_type": "execute_result"
    }
   ],
   "source": [
    "samples['skill'].shape # 2*100 iterations? 999 players"
   ]
  },
  {
   "cell_type": "code",
   "execution_count": 72,
   "metadata": {},
   "outputs": [
    {
     "data": {
      "text/plain": [
       "array([ 4.48720966e+00,  4.65973429e+00,  6.53511835e+00,  7.91035317e+00,\n",
       "        6.43767562e+00,  1.54857279e+00,  4.74397142e+00,  1.54295123e+00,\n",
       "        4.91299347e+00,  6.13785709e+00,  2.48626544e-01,  2.17244543e+00,\n",
       "        2.50172374e+00, -6.37351131e-01,  4.05904456e+00,  2.63563031e+00,\n",
       "       -1.17255877e+00, -1.71238734e+00, -4.84925538e-01,  4.77136647e+00,\n",
       "       -5.03921977e-01,  2.48519009e+00,  3.77728552e+00,  4.84543478e+00,\n",
       "        5.90940960e+00,  2.08599116e+00,  6.56073398e+00,  3.16906984e-01,\n",
       "        4.81492203e+00,  2.74591122e+00,  4.62320893e+00, -1.28161602e+00,\n",
       "        8.52762807e-01,  6.35426654e+00,  4.08801131e-01,  6.42795377e+00,\n",
       "       -8.29093979e-01,  8.98409408e-01,  5.54759839e+00,  3.88376759e+00,\n",
       "        8.86050646e-01,  4.87553445e+00,  2.53487857e+00,  4.09643587e+00,\n",
       "       -1.92431535e-01,  3.98094000e+00,  5.01982405e+00,  5.10208811e+00,\n",
       "        4.36354325e+00,  2.89537028e+00,  1.10702892e-01,  9.69728655e-01,\n",
       "        2.18619150e+00, -5.74359444e-02,  2.41768129e-01,  4.37708124e+00,\n",
       "        2.17525191e+00,  2.42529205e+00,  1.64433304e-02,  3.00198478e+00,\n",
       "        6.46687049e+00,  1.85547756e+00,  6.45931771e+00,  2.38859104e-01,\n",
       "        4.88832960e+00, -2.17909358e+00, -3.71047217e-02,  5.77353874e+00,\n",
       "        4.66547719e+00,  7.84986293e+00,  3.97193191e+00,  2.68359811e-01,\n",
       "       -1.31420006e+00,  4.17293253e+00,  4.09089714e+00, -1.09106779e+00,\n",
       "        2.66554932e+00, -1.68668205e+00,  6.34691640e+00,  6.96171198e-01,\n",
       "        6.28292270e+00,  6.86578325e+00,  2.27209640e+00,  3.13138322e+00,\n",
       "        1.54236607e+00,  2.68201164e-02,  5.46648229e+00, -1.20545035e+00,\n",
       "        3.76212057e-01, -1.19159849e+00,  7.62094942e-01, -1.24962238e+00,\n",
       "        7.71825397e-01, -1.31758934e+00,  9.06522198e-01,  7.26813579e-01,\n",
       "        8.55301944e-01, -1.47565159e+00, -1.21290291e+00,  4.93005232e+00,\n",
       "        3.11107746e+00,  5.81376693e+00,  2.38409620e+00, -1.40428205e-01,\n",
       "        4.03317338e+00,  4.94944702e-01,  2.21337549e+00, -4.75493082e-01,\n",
       "        2.01695856e+00,  1.72062443e+00, -2.03307712e+00, -3.25964699e-01,\n",
       "       -2.14840423e+00, -1.57167342e+00, -1.25242060e+00,  1.41903081e+00,\n",
       "       -1.32974191e+00,  7.89488739e-01, -1.33817947e+00,  9.92624028e-01,\n",
       "        2.49666805e+00,  3.94997742e+00,  1.74532168e+00,  9.28397930e-01,\n",
       "        3.40999128e+00,  6.12367479e-02,  6.49331906e+00, -1.13149220e+00,\n",
       "        2.57376773e+00, -1.87258996e+00,  2.42287201e+00,  5.16682577e-01,\n",
       "        4.97165712e+00,  9.50754248e-01, -1.23294828e+00,  1.51985256e+00,\n",
       "       -4.57297183e-01,  7.61999909e-02,  3.92445325e-01, -2.08875962e-01,\n",
       "        5.60570512e-01, -1.52197193e+00, -1.38504350e+00,  3.00437308e+00,\n",
       "       -1.13057671e+00, -1.47193758e+00,  5.80584840e+00, -1.13965330e+00,\n",
       "        3.86869237e+00,  9.17196787e-01,  1.50475578e+00,  2.91140232e+00,\n",
       "       -2.15719717e+00,  2.28082314e+00, -1.22909061e+00,  8.16409740e-01,\n",
       "        3.15310700e+00,  8.73859673e-01,  1.29419777e+00,  5.76603887e+00,\n",
       "        2.56944248e+00,  2.64043259e+00,  8.99398479e-01, -2.11203372e+00,\n",
       "        4.06378191e+00, -1.03527673e+00, -1.36941660e+00, -3.50789861e-01,\n",
       "        1.80973571e+00,  2.28443296e+00, -5.69126101e-01, -2.15430915e+00,\n",
       "       -1.44479896e+00, -1.42048333e+00, -1.27608918e+00, -6.29793270e-01,\n",
       "        3.27859056e+00, -5.85734824e-01,  3.30403238e+00,  2.76850628e+00,\n",
       "       -6.02860492e-01, -1.41493526e+00,  8.70900389e-01,  9.56972953e-01,\n",
       "       -8.65876131e-02,  2.27301729e-01, -1.35803506e+00, -1.65393736e+00,\n",
       "        8.32043352e-01, -1.46246700e+00, -1.56961067e+00,  3.91616301e+00,\n",
       "        9.40397126e-01, -1.37307115e+00, -1.09747699e+00, -1.73127790e+00,\n",
       "        7.70231006e-01,  2.11598789e+00,  2.21126751e+00, -1.35737427e+00,\n",
       "        1.01427564e+00,  3.88531337e+00,  1.18426363e+00,  7.10683574e+00,\n",
       "        5.77031109e+00,  2.39083417e+00,  6.31403332e+00,  5.40010615e+00,\n",
       "        2.77715807e+00, -1.15086716e+00, -2.19398658e-01,  1.32750130e+00,\n",
       "        3.46214158e+00,  6.42730443e+00, -2.33349675e-01, -3.59483034e-01,\n",
       "        1.73323602e+00,  3.17019875e+00, -8.65930042e-01,  3.43242518e+00,\n",
       "        1.16276007e+00, -9.55089643e-01,  1.99021812e+00,  3.49055850e+00,\n",
       "        2.58986321e+00,  5.23462337e-01,  3.51309133e+00, -3.54307933e-02,\n",
       "       -1.14847932e+00,  1.37536538e+00,  2.93534786e+00, -1.19776503e+00,\n",
       "        7.26039805e-01,  2.61294976e+00, -2.94272730e-01,  4.45342881e+00,\n",
       "        3.92424397e+00,  8.95296212e-01, -1.35166844e+00,  2.90273351e+00,\n",
       "        2.98246216e+00, -1.24784202e+00,  2.99438049e+00,  8.36951619e+00,\n",
       "        4.60353625e+00,  1.21552637e+00, -1.31988512e+00, -1.09272693e+00,\n",
       "       -2.42418692e-01, -2.62714050e+00, -1.02984749e+00, -1.22249834e+00,\n",
       "        4.59607052e+00, -9.48451421e-01,  4.97669907e+00,  1.02567601e-01,\n",
       "        8.30071890e-01, -1.22284723e+00,  1.72957596e+00,  1.94332215e-01,\n",
       "       -1.68533155e+00,  6.21462401e-01,  2.56044434e+00, -1.89526178e+00,\n",
       "        1.88318198e+00, -9.86466201e-01, -1.57197417e+00, -1.17183272e+00,\n",
       "       -1.06989312e+00, -1.41403962e+00,  8.38892897e-01, -1.42058758e+00,\n",
       "        1.69732228e+00, -1.15852928e+00, -1.44968255e+00, -1.05841350e+00,\n",
       "        8.52803024e-01, -9.41006852e-01,  3.44280377e+00,  6.89084745e+00,\n",
       "        1.09443003e+00,  2.60006343e+00,  2.83319395e+00,  1.87488422e+00,\n",
       "        1.36982271e+00, -1.57397084e+00, -1.12290545e+00,  7.30224326e-01,\n",
       "       -9.17005229e-01,  5.68609231e+00, -1.43843983e+00, -1.17033499e+00,\n",
       "       -1.51652877e+00,  3.40125909e+00,  1.42319469e+00,  4.82214144e-02,\n",
       "        1.22963182e+00,  1.11693477e+00,  4.27696680e-01, -5.82447547e-02,\n",
       "        5.84626607e+00, -1.49248338e+00,  9.76247875e-01,  8.81600144e-01,\n",
       "        5.47839834e+00,  3.30806922e+00, -1.19304276e+00,  1.20508514e+00,\n",
       "        3.64703818e+00,  2.83544967e+00, -1.12557660e+00, -1.11085428e+00,\n",
       "        4.69942665e+00,  3.13324369e+00,  7.68385013e-01,  4.64222230e+00,\n",
       "        6.16499532e+00,  2.26364696e+00,  2.86428828e+00, -1.18970058e+00,\n",
       "       -4.39082268e-01, -1.24859474e+00, -4.80232538e-01, -1.26233509e+00,\n",
       "        1.60637517e+00, -9.60295105e-01, -1.54344373e+00, -5.90143266e-01,\n",
       "        5.62671932e-01, -1.79869249e+00,  8.94275104e-01,  3.38040878e-01,\n",
       "       -1.13458191e+00,  9.32882713e-01,  2.82488832e+00, -2.40345959e-01,\n",
       "       -1.33105537e+00, -1.26406051e+00, -1.01981854e+00, -1.25119571e+00,\n",
       "       -1.31179596e+00, -1.42954812e+00, -1.30589951e+00, -2.06688572e-01,\n",
       "       -1.35975919e+00, -1.40838268e+00, -1.23347126e+00, -1.61294805e+00,\n",
       "        9.82378777e-02,  1.52367866e+00, -1.34432371e+00,  6.72836930e-01,\n",
       "       -1.50536231e+00, -1.55504073e+00, -2.08387157e-03, -9.81279455e-01,\n",
       "        1.15098337e-01, -1.13605746e+00, -1.07258495e+00, -1.47418118e+00,\n",
       "       -1.89588370e-01, -1.68026989e+00, -1.46367095e+00, -2.04854680e+00,\n",
       "        4.53490927e+00, -2.01531374e+00,  1.81010532e+00,  3.93611463e+00,\n",
       "        2.79112945e+00, -1.13017374e+00, -1.10918561e+00,  1.05632502e+00,\n",
       "        2.39602357e+00, -3.29228232e-02,  8.72301264e-02, -1.57892378e+00,\n",
       "       -1.87920084e-01, -1.14546773e+00,  7.36109188e-01, -1.33041633e+00,\n",
       "        2.75807070e+00,  1.75732623e+00,  2.52172677e+00, -1.11060683e+00,\n",
       "        4.60166659e+00,  9.64345058e-01, -1.71789792e+00, -1.70829651e+00,\n",
       "       -2.90819579e+00, -2.11704155e+00, -1.67982504e+00, -1.26245024e+00,\n",
       "        1.93165547e+00, -8.06555989e-02,  3.37396222e+00, -1.76865529e+00,\n",
       "        3.25288997e+00,  2.11275620e+00,  1.43228238e+00, -1.02392907e+00,\n",
       "        5.86094345e-01, -1.58892438e+00,  7.72245257e-01, -1.12453357e+00,\n",
       "       -1.26262056e+00,  1.53925677e+00, -1.44154990e+00, -2.21998816e+00,\n",
       "       -1.15785493e+00, -1.32868189e+00,  2.47355414e+00,  8.23408695e-01,\n",
       "        9.94678993e-02,  2.53350950e+00, -1.46500002e+00, -1.39986370e+00,\n",
       "        2.61209289e+00,  9.29889748e-02, -1.05880478e+00, -8.19078025e-01,\n",
       "       -1.11147481e+00,  2.61769537e-01, -1.05696272e+00, -1.67968794e+00,\n",
       "       -1.04289157e+00, -9.58215177e-01, -1.38642191e+00,  5.01998890e+00,\n",
       "        1.04818045e+00,  1.63115790e-01, -1.55466365e+00,  1.66967044e-01,\n",
       "        1.33858655e+00, -1.21752346e+00, -8.19957501e-01, -1.40142808e+00,\n",
       "        4.46295100e+00,  2.17093908e+00,  9.74130022e-01,  1.26055353e+00,\n",
       "       -1.20456183e+00, -1.12888716e+00,  4.55721141e+00, -1.06506963e+00,\n",
       "        5.06030811e+00, -1.06284992e+00,  7.77545465e-01, -1.18589820e+00,\n",
       "        3.11126092e+00,  2.03580341e+00,  9.98902345e-01, -1.34663648e+00,\n",
       "       -1.23432347e+00,  9.19640462e-01, -1.54368451e-01, -1.21387946e+00,\n",
       "        4.59676490e-01, -1.41342417e+00, -1.58182730e+00,  6.76920168e+00,\n",
       "       -1.02457510e+00, -1.06984312e+00, -9.31909081e-01,  3.81172418e-01,\n",
       "       -1.16709944e+00,  6.57438534e-01,  5.23687967e-01, -1.39425045e+00,\n",
       "       -8.08611350e-02, -1.16094167e+00, -1.97899922e+00, -1.70051937e+00,\n",
       "       -1.22481159e+00, -7.50698825e-01, -1.07450301e+00, -1.21907652e+00,\n",
       "       -1.66773148e+00, -1.83868874e+00, -1.41199638e+00, -1.04892345e+00,\n",
       "        1.05877004e+00, -1.10784125e+00, -1.10753286e+00, -1.35835406e+00,\n",
       "       -1.04751627e+00, -1.26678692e+00, -1.21557052e+00, -1.20631697e+00,\n",
       "        5.45482857e-01, -2.27607396e+00, -1.18665208e+00,  6.56041987e-01,\n",
       "        8.09198499e-01, -1.18034700e+00, -1.72213012e-01,  3.48101060e-01,\n",
       "        8.16928551e-01, -1.27365459e-01, -1.33885495e+00, -1.58994580e+00,\n",
       "        9.42719325e-01,  2.39200599e+00, -1.08731827e+00, -1.13220405e+00,\n",
       "       -5.46325945e-02, -1.80745156e+00,  5.96950201e-01,  8.89878878e-01,\n",
       "        1.13766923e+00, -1.27535080e+00, -1.24730119e+00, -1.41964256e+00,\n",
       "       -1.78064651e+00, -1.11749576e+00, -1.13902388e+00, -1.27220343e+00,\n",
       "       -1.14255148e+00, -2.17980000e+00, -2.21179437e+00, -1.54740393e+00,\n",
       "        4.62940943e-01,  7.75648972e-01, -1.46916759e+00, -1.85860801e+00,\n",
       "       -1.37251413e+00, -1.58808466e+00,  6.34190283e-02, -1.31631529e+00,\n",
       "       -1.25681239e+00,  6.91263794e-02, -1.05178207e+00,  3.88886744e-01,\n",
       "       -1.44711618e+00, -1.58721526e+00, -1.76019194e+00, -1.70718492e+00,\n",
       "       -1.43301295e+00, -1.28499288e+00, -1.79849272e+00, -1.61421092e+00,\n",
       "       -1.12823346e+00, -1.09602116e+00, -1.51620661e+00, -9.57117914e-01,\n",
       "       -2.19236231e+00,  1.13629529e+00, -1.84492518e+00, -9.61559756e-01,\n",
       "       -9.16417517e-01, -1.81556019e+00, -9.83547925e-01, -1.19336125e+00,\n",
       "       -1.88673123e+00, -2.08626709e+00,  1.71804738e-01, -1.66554235e+00,\n",
       "       -9.82506315e-01, -1.29083443e+00, -1.34703010e+00, -1.17000332e+00,\n",
       "       -1.18550261e+00, -1.31567728e+00,  4.72416328e-01, -1.56447466e+00,\n",
       "       -8.75315822e-01,  4.51420103e-01, -2.27501093e+00, -7.08029182e-01,\n",
       "       -1.25403226e+00,  7.30018074e-01, -1.13885185e+00, -1.10956031e+00,\n",
       "       -1.32527923e+00, -2.18794606e-01, -1.26387941e+00, -1.86953394e+00,\n",
       "        2.08763763e-01, -1.42174621e+00, -5.31341431e-02, -1.02178548e+00,\n",
       "       -1.02953938e+00, -1.38416167e+00, -5.15059583e-01, -1.02758777e+00,\n",
       "       -1.65201563e+00, -2.04976212e+00, -1.41224409e+00, -1.74343761e+00,\n",
       "       -1.19860953e+00,  3.21066223e+00, -9.94917559e-01, -9.43586307e-01,\n",
       "       -1.78450740e+00,  3.85997254e+00,  7.01053468e-01, -1.62928568e+00,\n",
       "       -1.41480901e+00, -1.12476348e+00, -1.38738128e+00,  6.28155984e-01,\n",
       "        1.51847826e+00, -1.53301489e+00,  8.68508423e-01, -1.48728538e+00,\n",
       "       -1.47037634e+00, -1.48241286e+00, -1.17694908e+00,  2.06842385e+00,\n",
       "       -1.06135950e+00, -1.49530811e+00, -1.57832353e+00, -2.20552708e+00,\n",
       "       -9.88826070e-01, -1.28678466e+00,  9.41097719e-01, -1.43358721e+00,\n",
       "        2.59214317e+00,  1.07837111e+00,  2.89864815e-01, -1.52533062e+00,\n",
       "        3.33849130e-01,  2.79088635e-01, -1.27035732e+00, -1.71032165e+00,\n",
       "        4.05190850e+00, -1.02633140e+00,  8.02280337e-01,  2.65146491e+00,\n",
       "       -1.33458936e+00, -1.01181658e+00, -2.03171920e+00, -1.34847624e+00,\n",
       "       -1.56239236e+00, -1.27690235e+00, -1.61932339e+00,  7.89334804e-01,\n",
       "       -1.14589931e+00,  7.65585930e-02, -1.27929919e+00,  7.39278801e-01,\n",
       "        2.88268330e-01, -7.33114473e-01,  2.63658648e+00, -1.83957732e+00,\n",
       "       -1.96627712e+00, -1.25902392e+00,  1.20840688e+00, -8.59009511e-01,\n",
       "       -1.41037416e+00, -1.43237579e+00, -1.60382228e+00, -1.89004120e+00,\n",
       "       -1.34357516e+00, -1.59903937e+00, -1.74147327e+00,  1.44436136e+00,\n",
       "       -1.41649381e+00, -3.95954435e-01, -1.17596184e+00, -1.23079991e-01,\n",
       "       -8.09771189e-01,  6.34857468e-01,  9.38512457e-02, -1.41352136e+00,\n",
       "        6.45596395e-01, -1.34919326e+00, -1.57325869e+00, -9.43427038e-01,\n",
       "       -1.22571736e+00, -1.51631435e+00, -1.50970020e+00,  1.40950426e+00,\n",
       "       -1.19606430e+00, -2.07474693e+00,  1.26233846e+00, -1.41557537e+00,\n",
       "       -1.14086652e+00, -9.97726989e-01, -1.19501116e+00, -3.41263852e-01,\n",
       "       -1.06594865e+00, -1.47072113e+00, -1.24824190e+00, -1.46529390e+00,\n",
       "        1.62536242e-01, -9.41863129e-01, -1.73458183e+00, -1.87724248e+00,\n",
       "        2.10950606e+00,  4.65317115e-02, -1.35898325e+00,  1.02133042e+00,\n",
       "        2.22464549e-02,  2.02186435e-01, -1.19158847e+00, -1.26592254e+00,\n",
       "        8.03128413e-01, -1.40968726e+00,  5.41583674e-01,  4.82561642e-01,\n",
       "        4.11713546e+00, -2.17184374e+00, -1.33569905e+00, -1.54717229e+00,\n",
       "        7.28284732e-01, -2.87848627e-01, -1.84318386e+00, -2.30127591e+00,\n",
       "       -1.93495634e+00,  8.04202951e-01,  1.99367806e+00,  6.30865837e-01,\n",
       "        6.39600550e-01, -1.62075852e+00, -7.27067786e-02, -1.77518220e+00,\n",
       "       -1.06805801e+00,  2.41243219e-01, -1.68714163e+00,  2.75834583e+00,\n",
       "       -9.28337037e-01,  5.54161401e-01, -1.15785642e+00,  6.94470730e-01,\n",
       "        5.21795193e-01, -1.60115841e+00, -1.33361805e+00, -1.58843112e-01,\n",
       "       -1.45256914e+00,  8.27685453e-01, -9.66121676e-01,  2.87341636e-01,\n",
       "       -1.13622987e+00,  4.17916503e-01, -1.25039621e+00, -2.98165094e-01,\n",
       "       -2.61784361e-01,  4.03452656e-01, -3.14712293e-01, -1.27563246e+00,\n",
       "       -1.63074479e+00, -1.12354556e+00, -1.18904900e+00, -1.23400959e+00,\n",
       "       -1.32328168e+00, -1.74013115e+00,  8.50483566e-01, -1.13701324e+00,\n",
       "       -1.17536517e+00, -1.35823280e+00,  1.56363855e+00, -1.22977687e+00,\n",
       "       -9.96031253e-01, -1.33212664e+00, -1.38922616e+00, -2.08118904e+00,\n",
       "       -1.55753926e+00, -1.33352903e+00, -1.88873936e+00, -1.26848583e+00,\n",
       "       -1.74650399e+00, -1.11555827e+00, -1.18110815e+00, -1.78977557e+00,\n",
       "        4.40136297e-01, -1.30947148e+00, -2.00563044e+00, -1.41540230e+00,\n",
       "       -2.15843388e+00, -1.29790445e+00,  1.86677684e-01, -1.45807513e+00,\n",
       "        2.25276969e+00, -8.13696723e-01, -1.35676882e+00, -1.59162358e+00,\n",
       "       -1.96759744e+00, -1.41131185e+00, -1.32204862e+00, -1.46452343e+00,\n",
       "       -1.22752811e+00, -1.22890255e+00, -1.27547406e+00, -1.29253031e+00,\n",
       "       -1.18983702e+00,  8.09410223e-01, -8.25800665e-02, -1.78010745e+00,\n",
       "       -1.46184689e+00, -2.59517943e+00, -1.53925882e+00, -1.15695500e+00,\n",
       "        1.04940480e+00, -2.13729585e+00, -1.07880954e+00,  8.78864748e-01,\n",
       "       -8.68203927e-01, -1.68172171e+00, -1.45956723e+00, -1.17187355e+00,\n",
       "       -1.57642813e+00, -1.04311345e+00, -1.36478018e+00,  9.29485584e-01,\n",
       "       -1.50405855e+00,  8.00786925e-01,  8.36317508e-01, -2.05408794e+00,\n",
       "       -3.00763505e-02, -1.29120212e+00, -1.23006908e+00, -1.48630488e+00,\n",
       "       -1.14538214e+00,  7.17910577e-02, -2.29079717e+00, -1.47427679e+00,\n",
       "       -1.35639224e+00, -1.02989052e+00,  6.98747592e-01, -1.79476524e+00,\n",
       "       -1.11564117e+00, -1.02428168e+00, -1.00410255e+00, -1.52596857e+00,\n",
       "       -1.09360698e+00,  6.23485272e-01, -1.31152498e+00,  1.85222868e+00,\n",
       "       -1.40539490e+00, -1.28726280e+00, -1.41584359e+00, -1.65639018e+00,\n",
       "       -1.40269960e+00,  1.96272376e+00, -1.84530065e+00, -1.65862896e+00,\n",
       "       -1.77486810e+00, -1.88668022e+00,  7.91128581e-03, -1.33134419e+00,\n",
       "       -1.19166426e+00, -2.13255229e+00, -6.77053716e-01, -1.79752121e+00,\n",
       "       -1.23749651e+00, -1.42032712e+00,  4.10112489e+00, -1.29535727e+00,\n",
       "       -1.41752586e+00, -1.03806016e+00, -2.21674903e+00, -2.40676323e+00,\n",
       "       -2.03971440e+00,  6.47318382e-01, -1.90300757e+00, -1.50003218e+00,\n",
       "        3.01447964e-01,  1.74762421e+00,  1.48851212e-01, -1.63819671e+00,\n",
       "        1.80654020e+00,  1.51957905e+00, -2.25463781e+00, -7.38801766e-01,\n",
       "       -2.15243559e+00, -6.51058792e-01, -5.89051211e-01, -1.88332845e+00,\n",
       "       -2.00328967e+00, -1.18535064e+00, -1.51691077e+00, -1.58923485e+00,\n",
       "       -1.16476360e+00, -1.79052762e+00, -1.37520558e+00, -1.54666496e+00,\n",
       "       -1.27140524e+00, -1.21276415e+00, -9.22073928e-01, -1.92980032e+00,\n",
       "       -2.04311378e-01, -2.02196064e+00, -1.32806638e+00, -1.75082026e+00,\n",
       "        3.04353590e-02, -1.58081391e+00,  6.07645626e-01,  7.39706588e-01,\n",
       "       -1.31710154e+00, -1.36599113e+00, -1.49914141e+00, -1.58132773e+00,\n",
       "       -1.26962104e+00, -1.90656339e+00, -1.65617658e+00,  4.99733190e-01,\n",
       "        1.87874992e+00, -1.36958044e+00,  4.61041040e-01, -1.98731349e+00,\n",
       "        1.53256976e-01,  4.70593250e-01,  4.82162383e-01,  1.47545662e-01,\n",
       "       -3.35861684e-01, -1.35811518e+00, -1.61388298e+00, -2.08348383e+00,\n",
       "       -2.27159716e+00, -1.48921404e+00,  8.22669047e-01,  2.72491231e+00,\n",
       "       -2.73406595e+00, -2.05008184e+00, -1.63783147e+00, -8.83710500e-01,\n",
       "       -1.64460481e+00, -1.90499368e+00, -1.68026197e+00, -1.65273702e+00,\n",
       "       -8.89276175e-01, -1.83682789e+00, -2.59790554e+00, -2.85617326e+00,\n",
       "        8.36314768e-01, -1.81976084e+00, -1.88529080e+00,  4.53187330e-01,\n",
       "       -1.82901201e+00, -2.01429505e+00, -1.94116293e+00,  2.71963427e-01,\n",
       "       -6.85092574e-02, -2.35110312e+00, -1.61730873e+00,  4.90334873e-03,\n",
       "       -1.34375763e+00, -1.64701807e+00, -2.13964612e+00, -1.41559130e+00,\n",
       "       -1.64671792e+00, -2.17430390e+00, -2.44373604e+00, -1.36736569e+00,\n",
       "       -2.18552296e+00, -1.52539260e+00, -1.84802168e+00, -1.44237063e+00,\n",
       "        3.03439112e-01,  1.68206247e+00, -1.86636862e+00, -2.44440483e+00,\n",
       "       -1.78345030e+00, -1.41139287e+00, -3.13970545e+00, -1.82021231e+00,\n",
       "        4.20139433e-01, -1.45555679e+00, -2.35325059e+00, -2.35331893e+00,\n",
       "       -1.73093184e+00, -1.95035208e+00, -2.52132940e-01, -2.13087710e+00,\n",
       "       -2.02630935e+00, -2.36567608e+00, -2.18534862e+00, -1.91313419e+00,\n",
       "       -3.99543008e-01, -1.52312978e+00, -2.06379927e+00, -1.79171659e+00,\n",
       "       -1.75061333e+00, -2.33831938e+00, -2.30741823e+00, -9.96983043e-01,\n",
       "       -1.51840807e+00, -3.11150718e+00, -2.21135475e+00, -1.30558515e+00,\n",
       "       -2.71260491e+00, -1.68393878e+00, -2.90200479e+00, -2.78802918e-01,\n",
       "       -4.83151557e-01, -1.11025375e+00, -2.22101649e+00, -1.92932660e+00,\n",
       "       -2.78550681e+00, -1.36564840e+00, -1.34197772e+00, -1.69294167e+00,\n",
       "       -2.40572309e+00, -1.34868901e+00, -2.67524643e+00, -2.75048991e+00,\n",
       "       -2.94235141e+00, -7.77461769e-01, -1.55426571e+00])"
      ]
     },
     "execution_count": 72,
     "metadata": {},
     "output_type": "execute_result"
    }
   ],
   "source": [
    "samples['skill'].mean(0)"
   ]
  },
  {
   "cell_type": "markdown",
   "metadata": {},
   "source": [
    "If we want to predict which player will win, we might use a direct estimator of that quantity based on the sample values:"
   ]
  },
  {
   "cell_type": "code",
   "execution_count": 73,
   "metadata": {},
   "outputs": [
    {
     "name": "stdout",
     "output_type": "stream",
     "text": [
      "0.4879440028879925\n"
     ]
    }
   ],
   "source": [
    "# Player 0 vs Player 1 prediction:\n",
    "def logit(z): return 1./(1.+np.exp(-z))\n",
    "\n",
    "# Use our model's win probability function (logistic of scaled difference)\n",
    "#  using the predicted skill difference for each sample:\n",
    "prob = logit( skill_data['scale']*(samples['skill'][:,0]-samples['skill'][:,1]) ).mean()\n",
    "\n",
    "print(prob)"
   ]
  },
  {
   "cell_type": "markdown",
   "metadata": {},
   "source": [
    "Remember to save the prediction!"
   ]
  },
  {
   "cell_type": "code",
   "execution_count": 74,
   "metadata": {},
   "outputs": [],
   "source": [
    "with open('skill_hat.pkl', 'wb') as f: \n",
    "    pickle.dump(samples['skill'], f)"
   ]
  },
  {
   "cell_type": "markdown",
   "metadata": {},
   "source": [
    "## Sample Model Evaluation"
   ]
  },
  {
   "cell_type": "code",
   "execution_count": 8,
   "metadata": {},
   "outputs": [],
   "source": [
    "skill_hat = pickle.load(open('skill_hat.pkl', 'rb'))"
   ]
  },
  {
   "cell_type": "code",
   "execution_count": 9,
   "metadata": {},
   "outputs": [],
   "source": [
    "def load_valid_data(dir='data/', pKeep=1.0, nEdge=3, nKeep=5, opt='valid'):\n",
    "    with open(dir+opt+'.csv', encoding='utf-8') as f:\n",
    "        lines = f.read().split('\\n')\n",
    "\n",
    "    p = 0\n",
    "    playerid = {}\n",
    "    for i in range(len(lines)):\n",
    "        csv = lines[i].split(',')\n",
    "        if len(csv) != 10: \n",
    "            continue   # parse error or blank line\n",
    "        player0,player1 = csv[1],csv[4]\n",
    "        if player0 not in playerid:\n",
    "            playerid[player0]=p\n",
    "            p+=1\n",
    "        if player1 not in playerid:\n",
    "            playerid[player1]=p\n",
    "            p+=1\n",
    "\n",
    "    nplayers = len(playerid)\n",
    "    playername = ['']*nplayers\n",
    "    for player in playerid:\n",
    "        playername[ playerid[player] ]=player  # id to name lookup\n",
    "\n",
    "\n",
    "    # if validation, use all datapoints\n",
    "    \n",
    "    games = []\n",
    "    nplays, nwins = np.zeros( (nplayers,nplayers) ), np.zeros( (nplayers,nplayers) )\n",
    "    for i in range(len(lines)):\n",
    "        csv = lines[i].split(',')\n",
    "        if len(csv) != 10:\n",
    "            continue   # parse error or blank line\n",
    "        a,b = playerid[csv[1]],playerid[csv[4]]\n",
    "        aw,bw = csv[2]=='[winner]',csv[5]=='[winner]'\n",
    "        nplays[a,b] += 1\n",
    "        nplays[b,a]+=1\n",
    "        nwins[a,b] += aw\n",
    "        nwins[b,a] += bw\n",
    "    \n",
    "    return nplayers, nplays, nwins, games\n"
   ]
  },
  {
   "cell_type": "code",
   "execution_count": 10,
   "metadata": {},
   "outputs": [],
   "source": [
    "nplayers_val, nplays_val, nwins_val, games_val = load_valid_data()"
   ]
  },
  {
   "cell_type": "code",
   "execution_count": 11,
   "metadata": {},
   "outputs": [
    {
     "name": "stdout",
     "output_type": "stream",
     "text": [
      "summary:  999\n",
      "(999, 999) 188014.0\n",
      "(999, 999) 94291.0\n",
      "games 0\n"
     ]
    }
   ],
   "source": [
    "print('summary: ', nplayers_val)\n",
    "print(nplays_val.shape, nplays_val.sum())\n",
    "print(nwins_val.shape, nwins_val.sum())\n",
    "print('games', len(games_val))"
   ]
  },
  {
   "cell_type": "code",
   "execution_count": 14,
   "metadata": {},
   "outputs": [],
   "source": [
    "def logit(z): return 1./(1.+np.exp(-z))\n",
    "\n",
    "def prediction_loss(skill, nplayers, nplays, nwins, games):\n",
    "    \n",
    "    loss = 0.\n",
    "    binary_loss = 0.\n",
    "    for i in range(nplayers):\n",
    "        for j in range(i+1, nplayers):\n",
    "            if nplays[i, j] == 0:\n",
    "                continue\n",
    "            prob = nwins[i,j] / nplays[i,j]\n",
    "            prob_hat = logit( skill_data['scale']*(skill[:,i]-skill[:,j]) ).mean()\n",
    "            loss += np.abs(prob_hat - prob)\n",
    "            binary_loss += np.logical_xor(prob_hat >= 0.5, prob >= 0.5)\n",
    "    \n",
    "    loss /= (nplays > 0).sum()/2\n",
    "    binary_loss /= (nplays > 0).sum()/2\n",
    "    \n",
    "    return loss, binary_loss\n"
   ]
  },
  {
   "cell_type": "code",
   "execution_count": 15,
   "metadata": {},
   "outputs": [],
   "source": [
    "loss, binary_loss = prediction_loss(skill_hat, nplayers_val, nplays_val, nwins_val, games_val)"
   ]
  },
  {
   "cell_type": "code",
   "execution_count": 16,
   "metadata": {},
   "outputs": [
    {
     "data": {
      "text/plain": [
       "(0.40859711344277694, 0.4447127906426102)"
      ]
     },
     "execution_count": 16,
     "metadata": {},
     "output_type": "execute_result"
    }
   ],
   "source": [
    "loss, binary_loss"
   ]
  },
  {
   "cell_type": "markdown",
   "metadata": {},
   "source": [
    "## Feature / Data reanalysis\n",
    "\n",
    "Do that in a seperate notebook!"
   ]
  },
  {
   "cell_type": "markdown",
   "metadata": {},
   "source": [
    "## New Model\n",
    "\n",
    "Do that in a seperate notebook!"
   ]
  }
 ],
 "metadata": {
  "kernelspec": {
   "display_name": "Python 3",
   "language": "python",
   "name": "python3"
  },
  "language_info": {
   "codemirror_mode": {
    "name": "ipython",
    "version": 3
   },
   "file_extension": ".py",
   "mimetype": "text/x-python",
   "name": "python",
   "nbconvert_exporter": "python",
   "pygments_lexer": "ipython3",
   "version": "3.7.4"
  }
 },
 "nbformat": 4,
 "nbformat_minor": 2
}
