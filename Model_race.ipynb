{
 "cells": [
  {
   "cell_type": "markdown",
   "metadata": {},
   "source": [
    "# Skill estimation using Stan"
   ]
  },
  {
   "cell_type": "code",
   "execution_count": 10,
   "metadata": {},
   "outputs": [],
   "source": [
    "import numpy as np\n",
    "import pystan\n",
    "import matplotlib.pyplot as plt\n",
    "%matplotlib inline\n",
    "\n",
    "import pickle"
   ]
  },
  {
   "cell_type": "markdown",
   "metadata": {},
   "source": [
    "## Model that defined skill's distribution with more features"
   ]
  },
  {
   "cell_type": "code",
   "execution_count": 4,
   "metadata": {},
   "outputs": [],
   "source": [
    "skill_model = \"\"\"\n",
    "data {\n",
    "  int<lower=1> N;             # Total number of players\n",
    "  int<lower=1> E;             # number of games\n",
    "  real<lower=0> scale;        # scale value for probability computation\n",
    "  int<lower=0,upper=1> win[E]; # PA wins vs PB\n",
    "  int PA[E];                  # player info between each game\n",
    "  int PB[E];                  # \n",
    "  int DA[E];                  # number of days for PA plays the game\n",
    "  int DB[E];                  # number of days for PB plays the game\n",
    "  int RA[E];                  # race for PA plays the game\n",
    "  int RB[E];                  # race for PB plays the game  \n",
    "  \n",
    "}\n",
    "parameters {\n",
    "  vector [N] skill;           # skill values for each player\n",
    "}\n",
    "\n",
    "model{\n",
    "  for (i in 1:N){ skill[i]~normal(0,3); }\n",
    "  for (i in 1:E){\n",
    "    win[i] ~ bernoulli_logit( (scale)*(skill[PA[i]]-skill[PB[i]]) );\n",
    "  }   # win probability is a logit function of skill difference\n",
    "}\n",
    "\"\"\""
   ]
  },
  {
   "cell_type": "code",
   "execution_count": 4,
   "metadata": {},
   "outputs": [],
   "source": [
    "skill_model = \"\"\"\n",
    "data {\n",
    "  int<lower=1> N;             # Total number of players\n",
    "  int<lower=1> E;             # number of games\n",
    "  real<lower=0> scale;        # scale value for probability computation\n",
    "  int<lower=0,upper=1> win[E]; # PA wins vs PB\n",
    "  int PA[E];                  # player info between each game\n",
    "  int PB[E];                  # \n",
    "  int RA[E];                  # race for PA plays the game\n",
    "  int RB[E];                  # race for PB plays the game  \n",
    "  \n",
    "}\n",
    "parameters {\n",
    "  vector [N] skillA;           # skill values for each player\n",
    "  vector [N] skillB;           # skill values for each player\n",
    "  vector [N] skillC;           # skill values for each player\n",
    "}\n",
    "\n",
    "model{\n",
    "  for (i in 1:N){ skill[i]~normal(0,3); }\n",
    "  for (i in 1:E){\n",
    "    win[i] ~ bernoulli_logit( (scale)*(skill[PA[i]]-skill[PB[i]]) );\n",
    "  }   # win probability is a logit function of skill difference\n",
    "}\n",
    "\"\"\""
   ]
  },
  {
   "cell_type": "code",
   "execution_count": 154,
   "metadata": {},
   "outputs": [],
   "source": [
    "skill_model = \"\"\"\n",
    "data {\n",
    "  int<lower=1> N;             // Total number of players\n",
    "  int<lower=1> E;             // number of games\n",
    "  real<lower=0> scale;        // scale value for probability computation\n",
    "  int<lower=0,upper=1> win[E]; // PA wins vs PB\n",
    "  int PA[E];                  // player info between each game\n",
    "  int PB[E];                  // \n",
    "  int<lower=0,upper=2> RA[E];                  // player info between each game\n",
    "  int<lower=0,upper=2> RB[E];                  // \n",
    "  \n",
    "}\n",
    "parameters {\n",
    "  vector [N] skillP;           // skill values for each player for different races\n",
    "  vector [N] skillT;\n",
    "  vector [N] skillZ;\n",
    "}\n",
    "\n",
    "model{\n",
    "  for (i in 1:N){ \n",
    "    skillP[i]~normal(0,3); \n",
    "    skillT[i]~normal(0,3); \n",
    "    skillZ[i]~normal(0,3); \n",
    "  }\n",
    "  for (i in 1:E){\n",
    "    if (RA[i] == 0 && RB[i] == 0){win[i] ~ bernoulli_logit( (scale)*(skillP[PA[i]]-skillP[PB[i]]) );}\n",
    "    if (RA[i] == 0 && RB[i] == 1){win[i] ~ bernoulli_logit( (scale)*(skillP[PA[i]]-skillT[PB[i]]) );}\n",
    "    if (RA[i] == 0 && RB[i] == 2){win[i] ~ bernoulli_logit( (scale)*(skillP[PA[i]]-skillZ[PB[i]]) );}\n",
    "    if (RA[i] == 1 && RB[i] == 0){win[i] ~ bernoulli_logit( (scale)*(skillT[PA[i]]-skillP[PB[i]]) );}\n",
    "    if (RA[i] == 1 && RB[i] == 1){win[i] ~ bernoulli_logit( (scale)*(skillT[PA[i]]-skillT[PB[i]]) );}\n",
    "    if (RA[i] == 1 && RB[i] == 2){win[i] ~ bernoulli_logit( (scale)*(skillT[PA[i]]-skillZ[PB[i]]) );}\n",
    "    if (RA[i] == 2 && RB[i] == 0){win[i] ~ bernoulli_logit( (scale)*(skillZ[PA[i]]-skillP[PB[i]]) );}\n",
    "    if (RA[i] == 2 && RB[i] == 1){win[i] ~ bernoulli_logit( (scale)*(skillZ[PA[i]]-skillT[PB[i]]) );}\n",
    "    if (RA[i] == 2 && RB[i] == 2){win[i] ~ bernoulli_logit( (scale)*(skillZ[PA[i]]-skillZ[PB[i]]) );}\n",
    "  }   // win probability is a logit function of skill difference\n",
    "}\n",
    "\"\"\""
   ]
  },
  {
   "cell_type": "markdown",
   "metadata": {},
   "source": [
    "Now, compile the model.  "
   ]
  },
  {
   "cell_type": "code",
   "execution_count": 155,
   "metadata": {},
   "outputs": [],
   "source": [
    "sm = pystan.StanModel(model_code = skill_model)"
   ]
  },
  {
   "cell_type": "code",
   "execution_count": null,
   "metadata": {},
   "outputs": [],
   "source": [
    "with open('skill_model_race.pkl', 'wb') as f: pickle.dump(sm, f)"
   ]
  },
  {
   "cell_type": "code",
   "execution_count": 151,
   "metadata": {},
   "outputs": [],
   "source": [
    "# try:     # load it if already compiled\n",
    "#     sm = pickle.load(open('skill_model_1.pkl', 'rb'))\n",
    "# except:  # ow, compile and save compiled model\n",
    "#     sm = pystan.StanModel(model_code = skill_model)\n",
    "#     with open('skill_model_1.pkl', 'wb') as f: pickle.dump(sm, f)"
   ]
  },
  {
   "cell_type": "markdown",
   "metadata": {},
   "source": [
    "## Processing data"
   ]
  },
  {
   "cell_type": "code",
   "execution_count": 209,
   "metadata": {},
   "outputs": [],
   "source": [
    "def load_data(dir='data/', pKeep=1.0, nEdge=9, nKeep=15, opt='train'):\n",
    "    with open(dir+opt+'.csv', encoding='utf-8') as f:\n",
    "        lines = f.read().split('\\n')\n",
    "\n",
    "    p = 0\n",
    "    playerid = {}\n",
    "    for i in range(len(lines)):\n",
    "        csv = lines[i].split(',')\n",
    "        if len(csv) != 10: \n",
    "            continue   # parse error or blank line\n",
    "        player0,player1 = csv[1],csv[4]\n",
    "        if player0 not in playerid:\n",
    "            playerid[player0]=p\n",
    "            p+=1\n",
    "        if player1 not in playerid:\n",
    "            playerid[player1]=p\n",
    "            p+=1\n",
    "\n",
    "    \n",
    "    # Sparsifying parameters (discard some training examples):\n",
    "    # pKeep = 1.0   # fraction of edges to consider (immed. throw out 1-p edges)\n",
    "    # nEdge = 3     # try to keep nEdge opponents per player (may be more; asymmetric)\n",
    "    # nKeep = 5     # keep at most nKeep games per opponent pairs (play each other multiple times)\n",
    "\n",
    "    wins = []\n",
    "    playerA, playerB = [], []\n",
    "    raceA, raceB = [], []\n",
    "    nplayers = len(playerid)\n",
    "    nplays = np.zeros( (nplayers,nplayers) )\n",
    "    race = {'P':0, 'T':1, 'Z':2}\n",
    "    for i in range(len(lines)):\n",
    "        csv = lines[i].split(',')\n",
    "        if len(csv) != 10 or csv[6] == 'R' or csv[7] == 'R':\n",
    "            continue   # parse error or blank line\n",
    "        a,b = playerid[csv[1]],playerid[csv[4]]\n",
    "        aw,bw = csv[2]=='[winner]',csv[5]=='[winner]'\n",
    "        \n",
    "        if (np.random.rand() < pKeep):\n",
    "            if (nplays[a,b] < nKeep) and ( ((nplays[a,:]>0).sum() < nEdge) or ((nplays[:,b]>0).sum() < nEdge) ):\n",
    "                nplays[a,b] += 1\n",
    "                nplays[b,a]+=1\n",
    "                \n",
    "                playerA.append(a+1)\n",
    "                playerB.append(b+1)\n",
    "                wins.append(1 if aw else 0) \n",
    "                raceA.append(race[csv[6]])\n",
    "                raceB.append(race[csv[7]])\n",
    "\n",
    "    return nplayers,playerA,playerB,raceA, raceB, wins"
   ]
  },
  {
   "cell_type": "code",
   "execution_count": 210,
   "metadata": {},
   "outputs": [],
   "source": [
    "nplayers,playerA,playerB,raceA, raceB, wins = load_data()"
   ]
  },
  {
   "cell_type": "code",
   "execution_count": 211,
   "metadata": {},
   "outputs": [
    {
     "name": "stdout",
     "output_type": "stream",
     "text": [
      "summary: \n",
      "# players 999\n",
      "# games 7385\n",
      "player A [611, 364, 572, 31, 471, 341, 426, 114, 330, 510]\n",
      "player B [140, 137, 313, 405, 583, 807, 510, 72, 547, 635]\n",
      "wins [0, 1, 0, 1, 1, 0, 0, 1, 1, 1]\n",
      "raceA [1, 2, 2, 0, 2, 0, 0, 0, 1, 2]\n",
      "raceB [0, 0, 1, 1, 2, 0, 2, 0, 1, 1]\n"
     ]
    }
   ],
   "source": [
    "print('summary: ')\n",
    "print('# players', nplayers)\n",
    "print('# games', len(wins))\n",
    "print('player A', playerA[:10])\n",
    "print('player B', playerB[:10])\n",
    "print('wins', wins[:10])\n",
    "print('raceA', raceA[:10])\n",
    "print('raceB', raceB[:10])"
   ]
  },
  {
   "cell_type": "markdown",
   "metadata": {},
   "source": [
    "We also need the observed data: number of players and games, which pairs played each game, and who won:"
   ]
  },
  {
   "cell_type": "code",
   "execution_count": 212,
   "metadata": {},
   "outputs": [],
   "source": [
    "skill_data = {\n",
    "    'N': nplayers,\n",
    "    'E': len(wins),\n",
    "    'scale': 0.3,\n",
    "    'win':wins,\n",
    "    'PA': playerA,\n",
    "    'PB': playerB,\n",
    "    'RA': raceA,\n",
    "    'RB': raceB\n",
    "}\n",
    "# Player 1 & 3 played & P1 won; then again; then P2 & P3 (P2 wins), etc."
   ]
  },
  {
   "cell_type": "markdown",
   "metadata": {},
   "source": [
    "Now, we can perform MCMC on the model, and extract the samples:"
   ]
  },
  {
   "cell_type": "code",
   "execution_count": 213,
   "metadata": {},
   "outputs": [
    {
     "name": "stderr",
     "output_type": "stream",
     "text": [
      "WARNING: Maximum (flat) parameter count (1000) exceeded: skipping diagnostic tests for n_eff and Rhat.\n",
      "To run all diagnostics call pystan.check_hmc_diagnostics(fit)\n",
      "WARNING: 9331 of 20000 iterations saturated the maximum tree depth of 10 (46.7 %)\n",
      "WARNING: Run again with max_treedepth larger than 10 to avoid saturation\n"
     ]
    }
   ],
   "source": [
    "fit = sm.sampling(data=skill_data, iter=10000, chains=4, max_treedepth = 20)"
   ]
  },
  {
   "cell_type": "code",
   "execution_count": 214,
   "metadata": {},
   "outputs": [],
   "source": [
    "samples = fit.extract()"
   ]
  },
  {
   "cell_type": "markdown",
   "metadata": {},
   "source": [
    "If we just want the mean estimate for each player's skill level, just take the empirical average over the samples:"
   ]
  },
  {
   "cell_type": "code",
   "execution_count": 215,
   "metadata": {},
   "outputs": [
    {
     "data": {
      "text/plain": [
       "OrderedDict([('skillP',\n",
       "              array([[ 1.48990961,  7.23300922,  2.76710835, ...,  4.63713057,\n",
       "                       0.66417784, -5.49840942],\n",
       "                     [ 2.59339849,  2.47211797,  3.02881111, ...,  0.27257655,\n",
       "                       0.77170541, -5.44534555],\n",
       "                     [ 2.01396863,  4.86674653, -0.36370737, ..., -1.51238798,\n",
       "                      -1.53269507, -5.06688425],\n",
       "                     ...,\n",
       "                     [ 1.5709015 ,  9.1459711 ,  0.10497113, ...,  2.14774958,\n",
       "                       1.6438537 , -5.93432731],\n",
       "                     [ 2.53036149,  5.0561935 ,  4.27036597, ...,  0.288186  ,\n",
       "                       5.04248768, -5.89452063],\n",
       "                     [-0.62947213,  5.55993549, -0.69649934, ..., -2.34861669,\n",
       "                       4.37964432, -2.2633626 ]])),\n",
       "             ('skillT',\n",
       "              array([[ 0.77080664,  5.42322264,  9.69950641, ..., -2.70363455,\n",
       "                      -1.794691  ,  3.42521392],\n",
       "                     [-2.13849175,  1.02349167, -0.2675334 , ..., -0.26844923,\n",
       "                      -0.93661471, -0.24280884],\n",
       "                     [ 6.00994609,  2.50088044, -4.27853549, ...,  2.75598296,\n",
       "                       0.2497999 ,  2.79317014],\n",
       "                     ...,\n",
       "                     [-2.49333528,  3.47642182,  5.48661315, ..., -2.76052224,\n",
       "                      -0.39683753,  1.60472201],\n",
       "                     [-1.03102824,  1.08702609, -4.28793533, ..., -0.0501385 ,\n",
       "                       1.09679563,  1.60674245],\n",
       "                     [-5.03405338,  2.78264569, -3.6952808 , ..., -1.54720688,\n",
       "                      -6.09027125,  1.21618851]])),\n",
       "             ('skillZ',\n",
       "              array([[ 3.11850679, -5.17588391,  1.47828456, ..., -3.69639478,\n",
       "                       0.40912853,  2.835943  ],\n",
       "                     [ 7.4431616 ,  0.91545686,  5.74965397, ...,  2.23028716,\n",
       "                       2.06851034, -7.16443143],\n",
       "                     [ 2.36711862, -1.74046648,  3.23755002, ..., -1.11161022,\n",
       "                      -0.71013215, -2.15462445],\n",
       "                     ...,\n",
       "                     [-2.66370683, -0.16434225,  1.47175838, ..., -1.97391789,\n",
       "                       2.79528982, -3.79291626],\n",
       "                     [-0.88186085, -2.29312614,  6.40586069, ..., -1.59034281,\n",
       "                      -0.6041797 ,  3.7618725 ],\n",
       "                     [-0.09230211, -0.51839534,  6.66062513, ..., -1.50635493,\n",
       "                       4.11119491, -2.03593381]])),\n",
       "             ('lp__',\n",
       "              array([-5701.75760877, -5680.46268837, -5640.64096695, ...,\n",
       "                     -5659.26762448, -5635.96710866, -5629.75329551]))])"
      ]
     },
     "execution_count": 215,
     "metadata": {},
     "output_type": "execute_result"
    }
   ],
   "source": [
    "samples"
   ]
  },
  {
   "cell_type": "code",
   "execution_count": 216,
   "metadata": {},
   "outputs": [
    {
     "data": {
      "text/plain": [
       "(20000, 999)"
      ]
     },
     "execution_count": 216,
     "metadata": {},
     "output_type": "execute_result"
    }
   ],
   "source": [
    "samples['skillP'].shape # 2*100 iterations? 999 players"
   ]
  },
  {
   "cell_type": "markdown",
   "metadata": {},
   "source": [
    "Remember to save the prediction!"
   ]
  },
  {
   "cell_type": "code",
   "execution_count": 218,
   "metadata": {},
   "outputs": [],
   "source": [
    "with open('skill_hat_PTZ.pkl', 'wb') as f: \n",
    "    pickle.dump(samples, f)"
   ]
  },
  {
   "cell_type": "markdown",
   "metadata": {},
   "source": [
    "## Sample Model Evaluation"
   ]
  },
  {
   "cell_type": "code",
   "execution_count": 219,
   "metadata": {},
   "outputs": [],
   "source": [
    "skill_hat = pickle.load(open('skill_hat_PTZ.pkl', 'rb'))"
   ]
  },
  {
   "cell_type": "code",
   "execution_count": 220,
   "metadata": {},
   "outputs": [],
   "source": [
    "def load_valid_data(dir='data/', pKeep=1.0, nEdge=3, nKeep=5, opt='valid'):\n",
    "    with open(dir+opt+'.csv', encoding='utf-8') as f:\n",
    "        lines = f.read().split('\\n')\n",
    "\n",
    "    p = 0\n",
    "    playerid = {}\n",
    "    for i in range(len(lines)):\n",
    "        csv = lines[i].split(',')\n",
    "        if len(csv) != 10: \n",
    "            continue   # parse error or blank line\n",
    "        player0,player1 = csv[1],csv[4]\n",
    "        if player0 not in playerid:\n",
    "            playerid[player0]=p\n",
    "            p+=1\n",
    "        if player1 not in playerid:\n",
    "            playerid[player1]=p\n",
    "            p+=1\n",
    "\n",
    "    nplayers = len(playerid)\n",
    "    playername = ['']*nplayers\n",
    "    for player in playerid:\n",
    "        playername[ playerid[player] ]=player  # id to name lookup\n",
    "\n",
    "\n",
    "  # Sparsifying parameters (discard some training examples):\n",
    "  # pKeep = 1.0   # fraction of edges to consider (immed. throw out 1-p edges)\n",
    "  # nEdge = 3     # try to keep nEdge opponents per player (may be more; asymmetric)\n",
    "  # nKeep = 5     # keep at most nKeep games per opponent pairs (play each other multiple times)\n",
    "    \n",
    "    games = []\n",
    "    race = {'P':0, 'T':1, 'Z':2}\n",
    "    nplays, nwins = np.zeros( (nplayers,nplayers) ), np.zeros( (nplayers,nplayers) )\n",
    "    for i in range(len(lines)):\n",
    "        csv = lines[i].split(',')\n",
    "        if len(csv) != 10 or csv[6] == 'R' or csv[7] == 'R':\n",
    "            continue   # parse error or blank line\n",
    "            \n",
    "        a,b = playerid[csv[1]],playerid[csv[4]]\n",
    "        aw,bw = csv[2]=='[winner]',csv[5]=='[winner]'\n",
    "        \n",
    "        if (np.random.rand() < pKeep):\n",
    "            if (nplays[a,b] < nKeep) and ( ((nplays[a,:]>0).sum() < nEdge) or ((nplays[:,b]>0).sum() < nEdge) ):\n",
    "                nplays[a,b] += 1\n",
    "                nplays[b,a]+=1\n",
    "                nwins[a,b] += aw\n",
    "                nwins[b,a] += bw\n",
    "                games.append((a,b,aw,race[csv[6]],race[csv[7]]))\n",
    "    \n",
    "    return nplayers, nplays, nwins, games"
   ]
  },
  {
   "cell_type": "code",
   "execution_count": 221,
   "metadata": {},
   "outputs": [],
   "source": [
    "nplayers_val, nplays_val, nwins_val, games_val = load_valid_data()"
   ]
  },
  {
   "cell_type": "code",
   "execution_count": 222,
   "metadata": {},
   "outputs": [
    {
     "name": "stdout",
     "output_type": "stream",
     "text": [
      "summary:  999\n",
      "(999, 999) 187352.0\n",
      "(999, 999) 93960.0\n",
      "games 93676\n"
     ]
    }
   ],
   "source": [
    "print('summary: ', nplayers_val)\n",
    "print(nplays_val.shape, nplays_val.sum())\n",
    "print(nwins_val.shape, nwins_val.sum())\n",
    "print('games', len(games_val))"
   ]
  },
  {
   "cell_type": "code",
   "execution_count": 223,
   "metadata": {},
   "outputs": [],
   "source": [
    "def logit(z): return 1./(1.+np.exp(-z))\n",
    "\n",
    "def prediction_loss(skills, games):\n",
    "    \n",
    "    loss = 0.\n",
    "    race = {0: 'skillP', 1: 'skillT', 2:'skillZ'}\n",
    "    for game in games:\n",
    "        a,b,aw,ra,rb = game\n",
    "        prob_hat = logit( 0.1*(skills[race[ra]][:,a]-skills[race[rb]][:,b]) ).mean()\n",
    "        loss += np.logical_xor(prob_hat >= 0.5, aw)\n",
    "    \n",
    "    loss /= len(games)\n",
    "    \n",
    "    return loss\n"
   ]
  },
  {
   "cell_type": "code",
   "execution_count": 224,
   "metadata": {},
   "outputs": [],
   "source": [
    "loss = prediction_loss(skill_hat, games_val)"
   ]
  },
  {
   "cell_type": "code",
   "execution_count": 225,
   "metadata": {},
   "outputs": [
    {
     "data": {
      "text/plain": [
       "0.48405141124727785"
      ]
     },
     "execution_count": 225,
     "metadata": {},
     "output_type": "execute_result"
    }
   ],
   "source": [
    "loss"
   ]
  },
  {
   "cell_type": "code",
   "execution_count": null,
   "metadata": {},
   "outputs": [],
   "source": []
  }
 ],
 "metadata": {
  "kernelspec": {
   "display_name": "Python 3",
   "language": "python",
   "name": "python3"
  },
  "language_info": {
   "codemirror_mode": {
    "name": "ipython",
    "version": 3
   },
   "file_extension": ".py",
   "mimetype": "text/x-python",
   "name": "python",
   "nbconvert_exporter": "python",
   "pygments_lexer": "ipython3",
   "version": "3.7.4"
  }
 },
 "nbformat": 4,
 "nbformat_minor": 2
}
